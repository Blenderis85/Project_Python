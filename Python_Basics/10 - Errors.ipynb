{
 "cells": [
  {
   "cell_type": "code",
   "execution_count": 1,
   "metadata": {},
   "outputs": [
    {
     "name": "stdout",
     "output_type": "stream",
     "text": [
      "division by zero\n"
     ]
    }
   ],
   "source": [
    "try:\n",
    "  10 / 0\n",
    "\n",
    "except Exception as e:\n",
    "  print(e)\n"
   ]
  },
  {
   "cell_type": "code",
   "execution_count": 2,
   "metadata": {},
   "outputs": [
    {
     "name": "stdout",
     "output_type": "stream",
     "text": [
      "{'name': 'Slayer', 'level': 128}\n",
      "{'name': 'Dorgoth', 'level': 300}\n",
      "{'name': 'Saruman', 'level': 4000}\n",
      "player id not found\n"
     ]
    }
   ],
   "source": [
    "def main():\n",
    "    try:\n",
    "        print(get_player_record(1))\n",
    "        print(get_player_record(2))\n",
    "        print(get_player_record(3))\n",
    "        print(get_player_record(4))\n",
    "    except Exception as e:\n",
    "        print(e)\n",
    "\n",
    "\n",
    "def get_player_record(player_id):\n",
    "    if player_id == 1:\n",
    "        return {\"name\": \"Slayer\", \"level\": 128}\n",
    "    if player_id == 2:\n",
    "        return {\"name\": \"Dorgoth\", \"level\": 300}\n",
    "    if player_id == 3:\n",
    "        return {\"name\": \"Saruman\", \"level\": 4000}\n",
    "    \n",
    "    raise Exception(\"player id not found\")\n",
    "\n",
    "\n",
    "main()\n"
   ]
  },
  {
   "cell_type": "markdown",
   "metadata": {},
   "source": [
    "```python\n",
    "raise Exception(\"something bad happened\")\n",
    "```"
   ]
  },
  {
   "cell_type": "code",
   "execution_count": null,
   "metadata": {},
   "outputs": [],
   "source": [
    "def get_player_record(player_id):\n",
    "    if player_id == 1:\n",
    "        return {\"name\": \"Slayer\", \"level\": 128}\n",
    "    if player_id == 2:\n",
    "        return {\"name\": \"Dorgoth\", \"level\": 300}\n",
    "    if player_id == 3:\n",
    "        return {\"name\": \"Saruman\", \"level\": 4000}\n",
    "    \n",
    "    raise Exception(\"player id not found\")\n",
    "\n"
   ]
  },
  {
   "cell_type": "code",
   "execution_count": 3,
   "metadata": {},
   "outputs": [
    {
     "name": "stdout",
     "output_type": "stream",
     "text": [
      "0 division\n",
      "index error\n"
     ]
    }
   ],
   "source": [
    "try:\n",
    "    10/0\n",
    "except ZeroDivisionError:\n",
    "    print(\"0 division\")\n",
    "except Exception as e:\n",
    "    print(e)\n",
    "\n",
    "try:\n",
    "    nums = [0, 1]\n",
    "    print(nums[2])\n",
    "except IndexError:\n",
    "    print(\"index error\")\n",
    "except Exception as e:\n",
    "    print(e)\n"
   ]
  },
  {
   "cell_type": "code",
   "execution_count": null,
   "metadata": {},
   "outputs": [],
   "source": [
    "def handle_get_player_record(player_id):\n",
    "    try:\n",
    "        return get_player_record(player_id)\n",
    "    except IndexError:\n",
    "        return \"index is too high\"\n",
    "    except Exception as e:\n",
    "        return e\n",
    "\n",
    "\n",
    "def get_player_record(player_id):\n",
    "    if player_id < 0:\n",
    "        raise Exception(\"negative ids not allowed\")\n",
    "    \n",
    "    players = [\n",
    "        {\"name\": \"Slayer\", \"level\": 128},\n",
    "        {\"name\": \"Dorgoth\", \"level\": 300},\n",
    "        {\"name\": \"Saruman\", \"level\": 4000},\n",
    "    ]\n",
    "    \n",
    "    return players[player_id]\n",
    "\n"
   ]
  },
  {
   "cell_type": "code",
   "execution_count": 5,
   "metadata": {},
   "outputs": [
    {
     "name": "stdout",
     "output_type": "stream",
     "text": [
      "other\n"
     ]
    }
   ],
   "source": [
    "try:\n",
    "    raise Exception('zero division')\n",
    "except ZeroDivisionError as e:\n",
    "    print(\"zero\")\n",
    "except Exception as e:\n",
    "    print(\"other\")\n"
   ]
  },
  {
   "cell_type": "code",
   "execution_count": 6,
   "metadata": {},
   "outputs": [
    {
     "name": "stdout",
     "output_type": "stream",
     "text": [
      "other\n"
     ]
    }
   ],
   "source": [
    "try:\n",
    "    10/0\n",
    "except Exception as e:\n",
    "    print(\"other\")\n"
   ]
  },
  {
   "cell_type": "code",
   "execution_count": null,
   "metadata": {},
   "outputs": [],
   "source": [
    "def purchase(price, money_available):\n",
    "    if money_available < price:\n",
    "        raise Exception(\"not enough money\")\n",
    "    \n",
    "    return money_available - price\n",
    "\n"
   ]
  },
  {
   "cell_type": "code",
   "execution_count": 7,
   "metadata": {},
   "outputs": [
    {
     "name": "stdout",
     "output_type": "stream",
     "text": [
      "Making purchases...\n",
      "Purchase exception: 2.00 is not enough for 5.00\n",
      "Purchase exception: 5.20 is not enough for 20.01\n",
      "Purchase exception: 6.00 is not enough for 40.20\n",
      "Purchase exception: 2.30 is not enough for 12.00\n",
      "Purchases complete!\n",
      "Leftover amounts for successful purchases:\n",
      " * 115.00\n",
      " * 252.96\n",
      " * 219.01\n",
      " * 0.00\n"
     ]
    }
   ],
   "source": [
    "def make_purchases(purchase_orders):\n",
    "    leftovers = []\n",
    "    \n",
    "    for purchase_order in purchase_orders:\n",
    "        try:\n",
    "            price = purchase_order[\"price\"]\n",
    "            money_available = purchase_order[\"money_available\"]\n",
    "            leftover = purchase(price, money_available)\n",
    "            leftovers.append(leftover)\n",
    "        except Exception as e:\n",
    "            print(f\"Purchase exception: {e}\")\n",
    "    \n",
    "    return leftovers\n",
    "\n",
    "\n",
    "def main():\n",
    "    print(\"Making purchases...\")\n",
    "    \n",
    "    leftovers = make_purchases(\n",
    "        [\n",
    "            {\"price\": 10.00, \"money_available\": 125.00},\n",
    "            {\"price\": 5.00, \"money_available\": 2.00},\n",
    "            {\"price\": 20.01, \"money_available\": 5.20},\n",
    "            {\"price\": 1.04, \"money_available\": 254.00},\n",
    "            {\"price\": 40.20, \"money_available\": 6.00},\n",
    "            {\"price\": 16.00, \"money_available\": 235.01},\n",
    "            {\"price\": 10.70, \"money_available\": 10.70},\n",
    "            {\"price\": 12.00, \"money_available\": 2.30},\n",
    "        ]\n",
    "    )\n",
    "    \n",
    "    print(\"Purchases complete!\")\n",
    "    print(\"Leftover amounts for successful purchases:\")\n",
    "    \n",
    "    for leftover in leftovers:\n",
    "        print(f\" * {leftover:.2f}\")\n",
    "\n",
    "\n",
    "def purchase(price, money_available):\n",
    "    if money_available < price:\n",
    "        raise Exception(f\"{money_available:.2f} is not enough for {price:.2f}\")\n",
    "    \n",
    "    return money_available - price\n",
    "\n",
    "\n",
    "main()\n"
   ]
  }
 ],
 "metadata": {
  "kernelspec": {
   "display_name": "venv",
   "language": "python",
   "name": "python3"
  },
  "language_info": {
   "codemirror_mode": {
    "name": "ipython",
    "version": 3
   },
   "file_extension": ".py",
   "mimetype": "text/x-python",
   "name": "python",
   "nbconvert_exporter": "python",
   "pygments_lexer": "ipython3",
   "version": "3.12.2"
  }
 },
 "nbformat": 4,
 "nbformat_minor": 2
}
