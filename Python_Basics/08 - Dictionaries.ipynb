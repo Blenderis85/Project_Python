{
 "cells": [
  {
   "cell_type": "code",
   "execution_count": 1,
   "metadata": {},
   "outputs": [
    {
     "name": "stdout",
     "output_type": "stream",
     "text": [
      "{'brand': 'Tesla', 'model': '3', 'year': 2019}\n"
     ]
    }
   ],
   "source": [
    "car = {\n",
    "  \"brand\": \"Tesla\",\n",
    "  \"model\": \"3\",\n",
    "  \"year\": 2019\n",
    "}\n",
    "\n",
    "print(car)\n"
   ]
  },
  {
   "cell_type": "code",
   "execution_count": null,
   "metadata": {},
   "outputs": [],
   "source": [
    "def get_character_record(name, server, level, rank):\n",
    "    return {\n",
    "        \"name\": name,\n",
    "        \"server\": server,\n",
    "        \"level\": level,\n",
    "        \"rank\": rank,\n",
    "        \"id\": f\"{name}#{server}\",\n",
    "    }\n",
    "\n"
   ]
  },
  {
   "cell_type": "code",
   "execution_count": 2,
   "metadata": {},
   "outputs": [
    {
     "name": "stdout",
     "output_type": "stream",
     "text": [
      "tesla\n"
     ]
    }
   ],
   "source": [
    "car = {\n",
    "    \"make\": \"tesla\",\n",
    "    \"model\": \"3\"\n",
    "}\n",
    "\n",
    "print(car[\"make\"])\n"
   ]
  },
  {
   "cell_type": "code",
   "execution_count": 3,
   "metadata": {},
   "outputs": [
    {
     "name": "stdout",
     "output_type": "stream",
     "text": [
      "{'jack': 'bronson', 'jill': 'mcarty', 'john': 'denver'}\n"
     ]
    }
   ],
   "source": [
    "names = [\"jack bronson\", \"jill mcarty\", \"john denver\"]\n",
    "\n",
    "names_dict = {}\n",
    "\n",
    "for name in names:\n",
    "    name_lst = name.split()\n",
    "\n",
    "    names_dict[name_lst[0]] = name_lst[1]\n",
    "\n",
    "print(names_dict)\n"
   ]
  },
  {
   "cell_type": "code",
   "execution_count": 4,
   "metadata": {},
   "outputs": [
    {
     "name": "stdout",
     "output_type": "stream",
     "text": [
      "{'jack': 'denver', 'james': 'mcarty'}\n"
     ]
    }
   ],
   "source": [
    "full_names = [\"jack bronson\", \"james mcarty\", \"jack denver\"]\n",
    "\n",
    "names_dict = {}\n",
    "\n",
    "for full_name in full_names:\n",
    "    names = full_name.split()\n",
    "    \n",
    "    first_name = names[0]\n",
    "    last_name = names[1]\n",
    "    \n",
    "    names_dict[first_name] = last_name\n",
    "\n",
    "print(names_dict)\n"
   ]
  },
  {
   "cell_type": "code",
   "execution_count": 5,
   "metadata": {},
   "outputs": [
    {
     "name": "stdout",
     "output_type": "stream",
     "text": [
      "{'jack': 'bronson', 'jill': 'mcarty'}\n"
     ]
    }
   ],
   "source": [
    "names_dict = {\n",
    "    \"jack\": \"bronson\",\n",
    "    \"jill\": \"mcarty\",\n",
    "    \"joe\": \"denver\"\n",
    "}\n",
    "\n",
    "del names_dict[\"joe\"]\n",
    "\n",
    "print(names_dict)\n"
   ]
  },
  {
   "cell_type": "code",
   "execution_count": 6,
   "metadata": {},
   "outputs": [
    {
     "name": "stdout",
     "output_type": "stream",
     "text": [
      "True\n",
      "False\n"
     ]
    }
   ],
   "source": [
    "cars = {\n",
    "    \"ford\": \"f150\",\n",
    "    \"tesla\": \"3\"\n",
    "}\n",
    "\n",
    "print(\"ford\" in cars)\n",
    "print(\"gmc\" in cars)\n"
   ]
  },
  {
   "cell_type": "code",
   "execution_count": null,
   "metadata": {},
   "outputs": [],
   "source": [
    "def count_enemies(enemy_names):\n",
    "    enemies_dict = {}\n",
    "    \n",
    "    for enemy_name in enemy_names:\n",
    "        if enemy_name in enemies_dict:\n",
    "            enemies_dict[enemy_name] += 1\n",
    "        else:\n",
    "            enemies_dict[enemy_name] = 1\n",
    "    \n",
    "    return enemies_dict\n",
    "\n"
   ]
  },
  {
   "cell_type": "code",
   "execution_count": 7,
   "metadata": {},
   "outputs": [
    {
     "name": "stdout",
     "output_type": "stream",
     "text": [
      "name: apple, size: small\n",
      "name: banana, size: large\n",
      "name: grape, size: tiny\n"
     ]
    }
   ],
   "source": [
    "fruit_sizes = {\n",
    "    \"apple\": \"small\",\n",
    "    \"banana\": \"large\",\n",
    "    \"grape\": \"tiny\"\n",
    "}\n",
    "\n",
    "for name in fruit_sizes:\n",
    "    size = fruit_sizes[name]\n",
    "    \n",
    "    print(f\"name: {name}, size: {size}\")\n"
   ]
  },
  {
   "cell_type": "code",
   "execution_count": null,
   "metadata": {},
   "outputs": [],
   "source": [
    "def get_most_common_enemy(enemies_dict):\n",
    "    max_so_far = float(\"-inf\")\n",
    "    \n",
    "    most_common = None\n",
    "    \n",
    "    for enemy_name in enemies_dict:\n",
    "        count = enemies_dict[enemy_name]\n",
    "        \n",
    "        if count > max_so_far:\n",
    "            max_so_far = count\n",
    "            most_common = enemy_name\n",
    "    \n",
    "    return most_common\n",
    "\n"
   ]
  },
  {
   "cell_type": "code",
   "execution_count": null,
   "metadata": {},
   "outputs": [],
   "source": [
    "def get_english_grade(student):\n",
    "    return student[\"type\"][\"student\"][\"courses\"][\"English_1010\"][\"current_grade\"]\n",
    "\n"
   ]
  },
  {
   "cell_type": "code",
   "execution_count": null,
   "metadata": {},
   "outputs": [],
   "source": [
    "def total_score(score_dict):\n",
    "    print(f\"score_dict: {score_dict}\")\n",
    "    \n",
    "    for key in score_dict:\n",
    "        print(f\"key: {key}\")\n",
    "        \n"
   ]
  },
  {
   "cell_type": "code",
   "execution_count": null,
   "metadata": {},
   "outputs": [],
   "source": [
    "def merge(dict1, dict2):\n",
    "    merged_dict = {}\n",
    "    \n",
    "    for k in dict1:\n",
    "        merged_dict[k] = dict1[k]\n",
    "    \n",
    "    for k in dict2:\n",
    "        merged_dict[k] = dict2[k]\n",
    "    \n",
    "    return merged_dict\n",
    "\n",
    "\n",
    "def total_score(score_dict):\n",
    "    total = 0\n",
    "    \n",
    "    for k in score_dict:\n",
    "        total += score_dict[k]\n",
    "    \n",
    "    return total\n",
    "\n"
   ]
  },
  {
   "cell_type": "code",
   "execution_count": null,
   "metadata": {},
   "outputs": [],
   "source": [
    "def calculate_total(items_purchased, grocery_list):\n",
    "    item_prices = {\n",
    "        \"milk\": 2.50,\n",
    "        \"eggs\": 3.25,\n",
    "        \"bread\": 1.21,\n",
    "        \"cheese\": 3.50,\n",
    "        \"apples\": 7.44,\n",
    "        \"bananas\": 3.88,\n",
    "        \"carrots\": 3.89,\n",
    "        \"lettuce\": 1.12,\n",
    "        \"potatoes\": 32.21,\n",
    "        \"cereal\": 5.99,\n",
    "    }\n",
    "\n",
    "    unpurchased_items = []\n",
    "    receipt = {}\n",
    "    total = 0\n",
    "\n",
    "    for item in grocery_list:\n",
    "        if item not in items_purchased:\n",
    "            unpurchased_items.append(item)\n",
    "\n",
    "    for item in items_purchased:\n",
    "        price = item_prices[item]\n",
    "        receipt[item] = price\n",
    "        \n",
    "        total += price\n",
    "\n",
    "    return unpurchased_items, receipt, total\n",
    "\n"
   ]
  }
 ],
 "metadata": {
  "kernelspec": {
   "display_name": "venv",
   "language": "python",
   "name": "python3"
  },
  "language_info": {
   "codemirror_mode": {
    "name": "ipython",
    "version": 3
   },
   "file_extension": ".py",
   "mimetype": "text/x-python",
   "name": "python",
   "nbconvert_exporter": "python",
   "pygments_lexer": "ipython3",
   "version": "3.12.2"
  }
 },
 "nbformat": 4,
 "nbformat_minor": 2
}
