{
 "cells": [
  {
   "cell_type": "code",
   "execution_count": null,
   "metadata": {},
   "outputs": [],
   "source": [
    "5 < 6 # evaluates to True\n",
    "5 > 6 # evaluates to False\n",
    "5 >= 6 # evaluates to False\n",
    "5 <= 6 # evaluates to True\n",
    "5 == 6 # evaluates to False\n",
    "5 != 6 # evaluates to True\n"
   ]
  },
  {
   "cell_type": "code",
   "execution_count": null,
   "metadata": {},
   "outputs": [],
   "source": [
    "def player_1_wins(player_1_score, player_2_score):\n",
    "    return player_1_score > player_2_score\n",
    "\n"
   ]
  },
  {
   "cell_type": "code",
   "execution_count": 1,
   "metadata": {},
   "outputs": [
    {
     "name": "stdout",
     "output_type": "stream",
     "text": [
      "True\n"
     ]
    }
   ],
   "source": [
    "is_bigger = 5 > 4\n",
    "\n",
    "print(is_bigger)\n"
   ]
  },
  {
   "cell_type": "code",
   "execution_count": 2,
   "metadata": {},
   "outputs": [
    {
     "name": "stdout",
     "output_type": "stream",
     "text": [
      "True\n"
     ]
    }
   ],
   "source": [
    "is_bigger = True\n",
    "\n",
    "print(is_bigger)\n"
   ]
  },
  {
   "cell_type": "code",
   "execution_count": null,
   "metadata": {},
   "outputs": [],
   "source": [
    "def compare_heights(edward_height, alphonse_height, winry_height, mustang_height):\n",
    "    is_mustang_edward_same = mustang_height == edward_height\n",
    "    is_alphonse_edward_same = alphonse_height == edward_height\n",
    "    is_winry_alphonse_same = winry_height == alphonse_height\n",
    "    \n",
    "    return is_mustang_edward_same, is_alphonse_edward_same, is_winry_alphonse_same\n",
    "\n"
   ]
  },
  {
   "cell_type": "code",
   "execution_count": 3,
   "metadata": {},
   "outputs": [
    {
     "name": "stdout",
     "output_type": "stream",
     "text": [
      "True\n"
     ]
    }
   ],
   "source": [
    "car_size = 4\n",
    "truck_size = 5\n",
    "\n",
    "is_smaller = car_size < truck_size\n",
    "\n",
    "print(is_smaller)\n"
   ]
  },
  {
   "cell_type": "code",
   "execution_count": null,
   "metadata": {},
   "outputs": [],
   "source": [
    "def can_withstand_blow(hero_armor, enemy_damage):\n",
    "    return hero_armor >= enemy_damage\n",
    "\n"
   ]
  },
  {
   "cell_type": "markdown",
   "metadata": {},
   "source": [
    "```python\n",
    "if CONDITION:\n",
    "\t# do some stuff here\n",
    "\n",
    "# code after the if block will run regardless\n",
    "```"
   ]
  },
  {
   "cell_type": "code",
   "execution_count": 4,
   "metadata": {},
   "outputs": [
    {
     "name": "stdout",
     "output_type": "stream",
     "text": [
      "Player Health: 0\n",
      "Checking status...\n",
      "dead\n",
      "status check complete\n",
      "=====================================\n",
      "Player Health: 5\n",
      "Checking status...\n",
      "status check complete\n",
      "=====================================\n",
      "Player Health: 3\n",
      "Checking status...\n",
      "status check complete\n",
      "=====================================\n"
     ]
    }
   ],
   "source": [
    "def print_status(player_health):\n",
    "    if player_health == 0:\n",
    "        print(\"dead\")\n",
    "    \n",
    "    print(\"status check complete\")\n",
    "\n",
    "\n",
    "def test(health):\n",
    "    print(f\"Player Health: {health}\")\n",
    "    print(\"Checking status...\")\n",
    "    \n",
    "    print_status(health)\n",
    "    \n",
    "    print(\"=====================================\")\n",
    "\n",
    "\n",
    "def main():\n",
    "    test(0)\n",
    "    test(5)\n",
    "    test(3)\n",
    "\n",
    "\n",
    "main()\n"
   ]
  },
  {
   "cell_type": "code",
   "execution_count": 5,
   "metadata": {},
   "outputs": [
    {
     "name": "stdout",
     "output_type": "stream",
     "text": [
      "True\n"
     ]
    }
   ],
   "source": [
    "is_equal = 5 == 5\n",
    "\n",
    "print(is_equal)\n"
   ]
  },
  {
   "cell_type": "code",
   "execution_count": null,
   "metadata": {},
   "outputs": [],
   "source": [
    "def check_swords_for_army(number_of_swords, number_of_soldiers):\n",
    "    if number_of_soldiers == number_of_swords:\n",
    "        return \"correct amount\"\n",
    "    \n",
    "    return \"incorrect amount\"\n",
    "\n"
   ]
  },
  {
   "cell_type": "code",
   "execution_count": null,
   "metadata": {},
   "outputs": [],
   "source": [
    "def player_status(health):\n",
    "    if health <= 0:\n",
    "        return \"dead\"\n",
    "    elif health <= 5:\n",
    "        return \"injured\"\n",
    "    else:\n",
    "        return \"healthy\"\n",
    "    \n"
   ]
  },
  {
   "cell_type": "code",
   "execution_count": null,
   "metadata": {},
   "outputs": [],
   "source": [
    "def check_high_score(player_name, high_scoring_player_name, low_scoring_player_name):\n",
    "    if player_name == high_scoring_player_name:\n",
    "        return \"high\"\n",
    "    elif player_name == low_scoring_player_name:\n",
    "        return \"low\"\n",
    "    else:\n",
    "        return \"neither\"\n",
    "    \n"
   ]
  },
  {
   "cell_type": "code",
   "execution_count": null,
   "metadata": {},
   "outputs": [],
   "source": [
    "def is_dog(num_legs, weight):\n",
    "    return num_legs == 4 and weight < 100\n",
    "\n"
   ]
  },
  {
   "cell_type": "code",
   "execution_count": null,
   "metadata": {},
   "outputs": [],
   "source": [
    "def is_car_cool(speed, is_electric):\n",
    "    return speed > 200 or is_electric\n",
    "\n"
   ]
  },
  {
   "cell_type": "code",
   "execution_count": null,
   "metadata": {},
   "outputs": [],
   "source": [
    "def does_attack_hit(attack_roll, armor_class):\n",
    "    return (attack_roll != 1 and attack_roll >= armor_class) or attack_roll == 20\n",
    "\n"
   ]
  },
  {
   "cell_type": "code",
   "execution_count": 6,
   "metadata": {},
   "outputs": [
    {
     "name": "stdout",
     "output_type": "stream",
     "text": [
      "True\n"
     ]
    }
   ],
   "source": [
    "is_tall = True\n",
    "is_fat = True\n",
    "is_skinny = False\n",
    "is_short = False\n",
    "\n",
    "result = (is_tall and is_fat) or (is_skinny and is_short)\n",
    "\n",
    "print(result)\n"
   ]
  },
  {
   "cell_type": "code",
   "execution_count": null,
   "metadata": {},
   "outputs": [],
   "source": [
    "def should_serve_customer(customer_age, on_break, time):\n",
    "    if customer_age < 21:\n",
    "        return False\n",
    "    if on_break:\n",
    "        return False\n",
    "    if time < 5 or time > 10:\n",
    "        return False\n",
    "    return True\n",
    "\n"
   ]
  },
  {
   "cell_type": "code",
   "execution_count": null,
   "metadata": {},
   "outputs": [],
   "source": [
    "def check_parking_meter(time_parked, time_purchased):\n",
    "    if time_parked >= time_purchased:\n",
    "        return \"overtime charged\"\n",
    "    \n",
    "    return \"no charges yet\"\n",
    "\n"
   ]
  },
  {
   "cell_type": "code",
   "execution_count": null,
   "metadata": {},
   "outputs": [],
   "source": [
    "def combat_evaluation(player_power, enemy_defense):\n",
    "    advantage, disadvantage, evenly_matched = False, False, False\n",
    "    \n",
    "    if player_power > enemy_defense:\n",
    "        advantage = True\n",
    "    elif player_power < enemy_defense:\n",
    "        disadvantage = True\n",
    "    else:\n",
    "        evenly_matched = True\n",
    "    \n",
    "    return advantage, disadvantage, evenly_matched\n",
    "\n"
   ]
  },
  {
   "cell_type": "code",
   "execution_count": null,
   "metadata": {},
   "outputs": [],
   "source": [
    "def has_enough_gas(gallons_in_car, miles_one_way, miles_per_gallon):\n",
    "    gallons_needed = (miles_one_way * 2) / miles_per_gallon\n",
    "    \n",
    "    return gallons_in_car >= gallons_needed\n",
    "\n"
   ]
  }
 ],
 "metadata": {
  "kernelspec": {
   "display_name": "venv",
   "language": "python",
   "name": "python3"
  },
  "language_info": {
   "codemirror_mode": {
    "name": "ipython",
    "version": 3
   },
   "file_extension": ".py",
   "mimetype": "text/x-python",
   "name": "python",
   "nbconvert_exporter": "python",
   "pygments_lexer": "ipython3",
   "version": "3.12.2"
  }
 },
 "nbformat": 4,
 "nbformat_minor": 2
}
