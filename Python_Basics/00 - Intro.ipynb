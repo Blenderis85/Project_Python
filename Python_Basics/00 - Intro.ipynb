{
 "cells": [
  {
   "cell_type": "code",
   "execution_count": 1,
   "metadata": {},
   "outputs": [
    {
     "name": "stdout",
     "output_type": "stream",
     "text": [
      "Welcome to Fantasy Quest!\n"
     ]
    }
   ],
   "source": [
    "print(\"Welcome to Fantasy Quest!\")\n"
   ]
  },
  {
   "cell_type": "code",
   "execution_count": 4,
   "metadata": {},
   "outputs": [
    {
     "name": "stdout",
     "output_type": "stream",
     "text": [
      "Lollilfred's health is: 100\n",
      "Lollilfred is hit by a sword for 10 damage...\n",
      "Lollilfred's health is now: 90\n"
     ]
    }
   ],
   "source": [
    "sword_damage = 10\n",
    "player_health = 100\n",
    "\n",
    "health_after_attack = player_health - sword_damage\n",
    "\n",
    "print(f\"Lollilfred's health is: {player_health}\")\n",
    "print(f\"Lollilfred is hit by a sword for {sword_damage} damage...\")\n",
    "print(f\"Lollilfred's health is now: {health_after_attack}\")\n"
   ]
  },
  {
   "cell_type": "code",
   "execution_count": null,
   "metadata": {},
   "outputs": [
    {
     "name": "stdout",
     "output_type": "stream",
     "text": [
      "Use the arrow keys to move\n"
     ]
    }
   ],
   "source": [
    "print(\"Use the arrow keys to move\")\n"
   ]
  },
  {
   "cell_type": "code",
   "execution_count": 1,
   "metadata": {},
   "outputs": [
    {
     "name": "stdout",
     "output_type": "stream",
     "text": [
      "some text here\n",
      "1\n",
      "3\n"
     ]
    }
   ],
   "source": [
    "print(\"some text here\")\n",
    "print(1)\n",
    "print(1 + 2)\n"
   ]
  },
  {
   "cell_type": "code",
   "execution_count": 8,
   "metadata": {},
   "outputs": [
    {
     "name": "stdout",
     "output_type": "stream",
     "text": [
      "325\n"
     ]
    }
   ],
   "source": [
    "print(250 + 75)\n"
   ]
  },
  {
   "cell_type": "code",
   "execution_count": 9,
   "metadata": {},
   "outputs": [
    {
     "name": "stdout",
     "output_type": "stream",
     "text": [
      "this prints first\n",
      "this prints second\n",
      "this prints last\n"
     ]
    }
   ],
   "source": [
    "print(\"this prints first\")\n",
    "print(\"this prints second\")\n",
    "print(\"this prints last\")\n"
   ]
  },
  {
   "cell_type": "code",
   "execution_count": 10,
   "metadata": {},
   "outputs": [
    {
     "name": "stdout",
     "output_type": "stream",
     "text": [
      "Jax: B-Kaw!\n",
      "Hero: ...\n",
      "Jax: Where are you off to this morning? Bkaw...\n",
      "Hero: Where did an owl learn to speak??\n"
     ]
    }
   ],
   "source": [
    "print(\"Jax: B-Kaw!\")\n",
    "print(\"Hero: ...\")\n",
    "print(\"Jax: Where are you off to this morning? Bkaw...\")\n",
    "print(\"Hero: Where did an owl learn to speak??\")\n"
   ]
  },
  {
   "cell_type": "code",
   "execution_count": 11,
   "metadata": {},
   "outputs": [
    {
     "name": "stdout",
     "output_type": "stream",
     "text": [
      "Starting up server...\n",
      "local server is listening on port 8080\n"
     ]
    }
   ],
   "source": [
    "print(\"Starting up server...\")\n",
    "print(\"local server is listening on port 8080\")\n"
   ]
  },
  {
   "cell_type": "code",
   "execution_count": 12,
   "metadata": {},
   "outputs": [
    {
     "name": "stdout",
     "output_type": "stream",
     "text": [
      "247.5\n"
     ]
    }
   ],
   "source": [
    "print((250 + 241 + 244 + 255) / 4)\n"
   ]
  },
  {
   "cell_type": "code",
   "execution_count": 13,
   "metadata": {},
   "outputs": [
    {
     "name": "stdout",
     "output_type": "stream",
     "text": [
      "Thank you for shopping at Bootmart!\n",
      "Your total today was:\n",
      "$12.50\n"
     ]
    }
   ],
   "source": [
    "items_in_cart = 5\n",
    "cost_of_each_item = 2.50\n",
    "\n",
    "total_cost = items_in_cart * cost_of_each_item\n",
    "\n",
    "print(\"Thank you for shopping at Bootmart!\")\n",
    "print(\"Your total today was:\")\n",
    "print(f\"${total_cost:.2f}\")\n"
   ]
  }
 ],
 "metadata": {
  "kernelspec": {
   "display_name": "venv",
   "language": "python",
   "name": "python3"
  },
  "language_info": {
   "codemirror_mode": {
    "name": "ipython",
    "version": 3
   },
   "file_extension": ".py",
   "mimetype": "text/x-python",
   "name": "python",
   "nbconvert_exporter": "python",
   "pygments_lexer": "ipython3",
   "version": "3.12.2"
  }
 },
 "nbformat": 4,
 "nbformat_minor": 2
}
