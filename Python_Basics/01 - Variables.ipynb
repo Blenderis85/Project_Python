{
 "cells": [
  {
   "cell_type": "code",
   "execution_count": 5,
   "metadata": {},
   "outputs": [
    {
     "name": "stdout",
     "output_type": "stream",
     "text": [
      "2\n",
      "3\n"
     ]
    }
   ],
   "source": [
    "my_new_variable_two = 2\n",
    "this_can_be_called_anything = 3\n",
    "\n",
    "print(my_new_variable_two)\n",
    "print(this_can_be_called_anything)\n"
   ]
  },
  {
   "cell_type": "code",
   "execution_count": 1,
   "metadata": {},
   "outputs": [
    {
     "name": "stdout",
     "output_type": "stream",
     "text": [
      "1000\n"
     ]
    }
   ],
   "source": [
    "player_health = 1000\n",
    "\n",
    "print(player_health)\n"
   ]
  },
  {
   "cell_type": "code",
   "execution_count": 2,
   "metadata": {},
   "outputs": [
    {
     "name": "stdout",
     "output_type": "stream",
     "text": [
      "20\n"
     ]
    }
   ],
   "source": [
    "acceleration = 10\n",
    "acceleration = 20\n",
    "\n",
    "print(acceleration)\n"
   ]
  },
  {
   "cell_type": "code",
   "execution_count": 3,
   "metadata": {},
   "outputs": [
    {
     "name": "stdout",
     "output_type": "stream",
     "text": [
      "900\n",
      "800\n",
      "700\n",
      "600\n"
     ]
    }
   ],
   "source": [
    "player_health = 1000\n",
    "\n",
    "player_health -= 100\n",
    "print(player_health)\n",
    "\n",
    "player_health -= 100\n",
    "print(player_health)\n",
    "\n",
    "player_health -= 100\n",
    "print(player_health)\n",
    "\n",
    "player_health -= 100\n",
    "print(player_health)\n"
   ]
  },
  {
   "cell_type": "markdown",
   "metadata": {},
   "source": [
    "```python\n",
    "sum = a + b\n",
    "difference = a - b\n",
    "product = a * b\n",
    "quotient = a / b\n",
    "```"
   ]
  },
  {
   "cell_type": "code",
   "execution_count": 4,
   "metadata": {},
   "outputs": [
    {
     "name": "stdout",
     "output_type": "stream",
     "text": [
      "2000\n"
     ]
    }
   ],
   "source": [
    "player_health = 1000\n",
    "armor_multiplier = 2\n",
    "\n",
    "armored_health = player_health * armor_multiplier\n",
    "\n",
    "print(armored_health)\n"
   ]
  },
  {
   "cell_type": "code",
   "execution_count": 6,
   "metadata": {},
   "outputs": [
    {
     "name": "stdout",
     "output_type": "stream",
     "text": [
      "-1\n"
     ]
    }
   ],
   "source": [
    "my_negative_num = -1\n",
    "\n",
    "print(my_negative_num)\n"
   ]
  },
  {
   "cell_type": "code",
   "execution_count": 7,
   "metadata": {},
   "outputs": [
    {
     "name": "stdout",
     "output_type": "stream",
     "text": [
      "90\n"
     ]
    }
   ],
   "source": [
    "player_health = 100\n",
    "poison_damage = -10\n",
    "\n",
    "player_poison_health = player_health + poison_damage\n",
    "\n",
    "print(player_poison_health)\n"
   ]
  },
  {
   "cell_type": "code",
   "execution_count": 8,
   "metadata": {},
   "outputs": [
    {
     "name": "stdout",
     "output_type": "stream",
     "text": [
      "2\n"
     ]
    }
   ],
   "source": [
    "# speed is a variable describing how fast your player moves\n",
    "speed = 2\n",
    "\n",
    "print(speed)\n"
   ]
  },
  {
   "cell_type": "code",
   "execution_count": 9,
   "metadata": {},
   "outputs": [
    {
     "name": "stdout",
     "output_type": "stream",
     "text": [
      "Hello, World!\n"
     ]
    }
   ],
   "source": [
    "\"\"\"\n",
    "    the code found below \n",
    "    will print 'Hello, World!' to the console\n",
    "\"\"\"\n",
    "print(\"Hello, World!\")\n"
   ]
  },
  {
   "cell_type": "code",
   "execution_count": 10,
   "metadata": {},
   "outputs": [
    {
     "name": "stdout",
     "output_type": "stream",
     "text": [
      "scimitar\n"
     ]
    }
   ],
   "source": [
    "# the best_sword variable holds the value of the best sword in the game\n",
    "best_sword = \"scimitar\"\n",
    "\n",
    "print(best_sword)\n"
   ]
  },
  {
   "cell_type": "code",
   "execution_count": 1,
   "metadata": {},
   "outputs": [
    {
     "name": "stdout",
     "output_type": "stream",
     "text": [
      "10\n",
      "10\n",
      "10\n"
     ]
    }
   ],
   "source": [
    "somevariablehere = 10\n",
    "someVariableHere = 10\n",
    "some_variable_here = 10\n",
    "\n",
    "print(somevariablehere)\n",
    "print(someVariableHere)\n",
    "print(some_variable_here)\n"
   ]
  },
  {
   "cell_type": "code",
   "execution_count": 14,
   "metadata": {},
   "outputs": [
    {
     "name": "stdout",
     "output_type": "stream",
     "text": [
      "boot.dev\n",
      "boot.dev\n"
     ]
    }
   ],
   "source": [
    "name_with_single_quotes = 'boot.dev'\n",
    "name_with_double_quotes = \"boot.dev\"\n",
    "\n",
    "print(name_with_single_quotes)\n",
    "print(name_with_double_quotes)\n"
   ]
  },
  {
   "cell_type": "code",
   "execution_count": 15,
   "metadata": {},
   "outputs": [
    {
     "name": "stdout",
     "output_type": "stream",
     "text": [
      "5\n",
      "-5\n"
     ]
    }
   ],
   "source": [
    "x = 5\n",
    "y = -5\n",
    "\n",
    "print(x)\n",
    "print(y)\n"
   ]
  },
  {
   "cell_type": "code",
   "execution_count": 2,
   "metadata": {},
   "outputs": [
    {
     "name": "stdout",
     "output_type": "stream",
     "text": [
      "5.2\n",
      "-5.2\n"
     ]
    }
   ],
   "source": [
    "x = 5.2\n",
    "y = -5.2\n",
    "\n",
    "print(x)\n",
    "print(y)\n"
   ]
  },
  {
   "cell_type": "code",
   "execution_count": 16,
   "metadata": {},
   "outputs": [
    {
     "name": "stdout",
     "output_type": "stream",
     "text": [
      "True\n",
      "False\n"
     ]
    }
   ],
   "source": [
    "is_tall = True\n",
    "is_short = False\n",
    "\n",
    "print(is_tall)\n",
    "print(is_short)\n"
   ]
  },
  {
   "cell_type": "code",
   "execution_count": 17,
   "metadata": {},
   "outputs": [
    {
     "name": "stdout",
     "output_type": "stream",
     "text": [
      "player_health is a/an <class 'int'>\n",
      "player_has_magic is a/an <class 'bool'>\n"
     ]
    }
   ],
   "source": [
    "player_health = 100\n",
    "player_has_magic = True\n",
    "\n",
    "print(f\"player_health is a/an {type(player_health)}\")\n",
    "print(f\"player_has_magic is a/an {type(player_has_magic)}\")\n"
   ]
  },
  {
   "cell_type": "code",
   "execution_count": 18,
   "metadata": {},
   "outputs": [
    {
     "name": "stdout",
     "output_type": "stream",
     "text": [
      "You have 10 bananas\n"
     ]
    }
   ],
   "source": [
    "num_bananas = 10\n",
    "\n",
    "print(f\"You have {num_bananas} bananas\")\n"
   ]
  },
  {
   "cell_type": "code",
   "execution_count": 19,
   "metadata": {},
   "outputs": [
    {
     "name": "stdout",
     "output_type": "stream",
     "text": [
      "Yarl is a dwarf who is 37 years old.\n"
     ]
    }
   ],
   "source": [
    "name = \"Yarl\"\n",
    "age = 37\n",
    "race = \"dwarf\"\n",
    "\n",
    "print(f\"{name} is a {race} who is {age} years old.\")\n"
   ]
  },
  {
   "cell_type": "code",
   "execution_count": 20,
   "metadata": {},
   "outputs": [
    {
     "name": "stdout",
     "output_type": "stream",
     "text": [
      "None\n"
     ]
    }
   ],
   "source": [
    "empty = None\n",
    "\n",
    "print(empty)\n"
   ]
  },
  {
   "cell_type": "code",
   "execution_count": 21,
   "metadata": {},
   "outputs": [
    {
     "name": "stdout",
     "output_type": "stream",
     "text": [
      "None\n",
      "None\n"
     ]
    }
   ],
   "source": [
    "my_none = None # this is a None-type\n",
    "print(my_none)\n",
    "\n",
    "my_none = \"None\" # this is a string\n",
    "print(my_none)\n"
   ]
  },
  {
   "cell_type": "code",
   "execution_count": 22,
   "metadata": {},
   "outputs": [
    {
     "name": "stdout",
     "output_type": "stream",
     "text": [
      "True\n"
     ]
    }
   ],
   "source": [
    "enemy = None\n",
    "\n",
    "print(enemy is None)\n"
   ]
  },
  {
   "cell_type": "code",
   "execution_count": 24,
   "metadata": {},
   "outputs": [
    {
     "name": "stdout",
     "output_type": "stream",
     "text": [
      "Lane Wagner\n"
     ]
    }
   ],
   "source": [
    "first_name = \"Lane \"\n",
    "last_name = \"Wagner\"\n",
    "\n",
    "full_name = first_name + last_name\n",
    "\n",
    "print(full_name)\n"
   ]
  },
  {
   "cell_type": "code",
   "execution_count": 25,
   "metadata": {},
   "outputs": [
    {
     "name": "stdout",
     "output_type": "stream",
     "text": [
      "You have 1200 health\n",
      "You have 1100 health\n"
     ]
    }
   ],
   "source": [
    "sentence_start = \"You have \"\n",
    "sentence_end = \" health\"\n",
    "\n",
    "player1_health = \"1200\"\n",
    "player2_health = \"1100\"\n",
    "\n",
    "print(sentence_start + player1_health + sentence_end)\n",
    "print(sentence_start + player2_health + sentence_end)\n"
   ]
  },
  {
   "cell_type": "code",
   "execution_count": 26,
   "metadata": {},
   "outputs": [
    {
     "name": "stdout",
     "output_type": "stream",
     "text": [
      "Excalibur\n",
      "10\n",
      "200\n"
     ]
    }
   ],
   "source": [
    "sword_name, sword_damage, sword_length = \"Excalibur\", 10, 200\n",
    "\n",
    "print(sword_name)\n",
    "print(sword_damage)\n",
    "print(sword_length)\n"
   ]
  },
  {
   "cell_type": "code",
   "execution_count": 27,
   "metadata": {},
   "outputs": [
    {
     "name": "stdout",
     "output_type": "stream",
     "text": [
      "Excalibur\n",
      "10\n",
      "200\n"
     ]
    }
   ],
   "source": [
    "sword_name = \"Excalibur\"\n",
    "sword_damage = 10\n",
    "sword_length = 200\n",
    "\n",
    "print(sword_name)\n",
    "print(sword_damage)\n",
    "print(sword_length)\n"
   ]
  },
  {
   "cell_type": "code",
   "execution_count": 28,
   "metadata": {},
   "outputs": [
    {
     "name": "stdout",
     "output_type": "stream",
     "text": [
      "Thank you for shopping with us!\n",
      "Your total today was: $20.25\n",
      "Please consider filling out our customer survey.\n"
     ]
    }
   ],
   "source": [
    "email_start = \"Thank you for shopping with us!\"\n",
    "email_middle = \"Your total today was: \"\n",
    "email_end = \"Please consider filling out our customer survey.\"\n",
    "dollar_sign = \"$\"\n",
    "total_price = \"20.25\"\n",
    "\n",
    "print(email_start)\n",
    "\n",
    "print(email_middle + dollar_sign + total_price)\n",
    "\n",
    "print(email_end)\n"
   ]
  },
  {
   "cell_type": "code",
   "execution_count": 29,
   "metadata": {},
   "outputs": [
    {
     "name": "stdout",
     "output_type": "stream",
     "text": [
      "99\n"
     ]
    }
   ],
   "source": [
    "game_one_score = 97\n",
    "game_two_score = 91\n",
    "game_three_score = 106\n",
    "game_four_score = 105\n",
    "game_five_score = 96\n",
    "game_six_score = 93\n",
    "game_seven_score = 104\n",
    "\n",
    "average_score = (\n",
    "    game_one_score\n",
    "    + game_two_score\n",
    "    + game_three_score\n",
    "    + game_four_score\n",
    "    + game_five_score\n",
    "    + game_six_score\n",
    "    + game_seven_score\n",
    ") / 7\n",
    "\n",
    "print(round(average_score))\n"
   ]
  },
  {
   "cell_type": "code",
   "execution_count": 30,
   "metadata": {},
   "outputs": [
    {
     "name": "stdout",
     "output_type": "stream",
     "text": [
      "Roses are red, violets are blue.\n",
      "Python is cool, and so are you!\n"
     ]
    }
   ],
   "source": [
    "part_one = \"Roses are red, \"\n",
    "part_two = \"violets are blue.\"\n",
    "part_three = \"Python is cool, \"\n",
    "part_four = \"and so are you!\"\n",
    "\n",
    "line_one = part_one + part_two\n",
    "line_two = part_three + part_four\n",
    "\n",
    "print(line_one)\n",
    "print(line_two)\n"
   ]
  }
 ],
 "metadata": {
  "kernelspec": {
   "display_name": "venv",
   "language": "python",
   "name": "python3"
  },
  "language_info": {
   "codemirror_mode": {
    "name": "ipython",
    "version": 3
   },
   "file_extension": ".py",
   "mimetype": "text/x-python",
   "name": "python",
   "nbconvert_exporter": "python",
   "pygments_lexer": "ipython3",
   "version": "3.10.12"
  }
 },
 "nbformat": 4,
 "nbformat_minor": 2
}
