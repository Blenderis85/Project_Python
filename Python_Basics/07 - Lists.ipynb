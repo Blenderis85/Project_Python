{
 "cells": [
  {
   "cell_type": "code",
   "execution_count": 1,
   "metadata": {},
   "outputs": [
    {
     "name": "stdout",
     "output_type": "stream",
     "text": [
      "['Iron Breastplate', 'Healing Potion', 'Leather Scraps']\n"
     ]
    }
   ],
   "source": [
    "inventory = [\"Iron Breastplate\", \"Healing Potion\", \"Leather Scraps\"]\n",
    "\n",
    "print(inventory)\n"
   ]
  },
  {
   "cell_type": "code",
   "execution_count": 2,
   "metadata": {},
   "outputs": [
    {
     "name": "stdout",
     "output_type": "stream",
     "text": [
      "Inventory contains: ['Healing Potion', 'Leather Scraps', 'Iron Helmet', 'Shortsword']\n",
      "=====================================\n"
     ]
    }
   ],
   "source": [
    "def get_inventory():\n",
    "    return [\"Healing Potion\", \"Leather Scraps\", \"Iron Helmet\", \"Shortsword\"]\n",
    "\n",
    "\n",
    "def test():\n",
    "    inventory = get_inventory()\n",
    "    \n",
    "    print(f\"Inventory contains: {inventory}\")\n",
    "    print(\"=====================================\")\n",
    "\n",
    "\n",
    "def main():\n",
    "    test()\n",
    "\n",
    "\n",
    "main()\n"
   ]
  },
  {
   "cell_type": "code",
   "execution_count": 3,
   "metadata": {},
   "outputs": [
    {
     "name": "stdout",
     "output_type": "stream",
     "text": [
      "['daffodil', 'rose', 'chrysanthemum']\n",
      "[23, 18, 31, 42]\n"
     ]
    }
   ],
   "source": [
    "flower_types = [\n",
    "    \"daffodil\",\n",
    "    \"rose\",\n",
    "    \"chrysanthemum\"\n",
    "]\n",
    "\n",
    "player_ages = [\n",
    "    23,\n",
    "    18,\n",
    "    31,\n",
    "    42\n",
    "]\n",
    "\n",
    "print(flower_types)\n",
    "print(player_ages)\n"
   ]
  },
  {
   "cell_type": "code",
   "execution_count": 4,
   "metadata": {},
   "outputs": [
    {
     "name": "stdout",
     "output_type": "stream",
     "text": [
      "Go\n"
     ]
    }
   ],
   "source": [
    "best_languages = [\"JavaScript\", \"Go\", \"Rust\", \"Python\", \"C\"]\n",
    "\n",
    "print(best_languages[1])\n"
   ]
  },
  {
   "cell_type": "code",
   "execution_count": null,
   "metadata": {},
   "outputs": [],
   "source": [
    "def get_leather_scraps():\n",
    "    inventory = [\n",
    "        \"Healing Potion\",\n",
    "        \"Leather Scraps\",\n",
    "        \"Iron Helmet\",\n",
    "        \"Bread\",\n",
    "        \"Shortsword\",\n",
    "    ]\n",
    "\n",
    "    item_index = 1\n",
    "\n",
    "    return inventory[item_index]\n",
    "\n"
   ]
  },
  {
   "cell_type": "code",
   "execution_count": 5,
   "metadata": {},
   "outputs": [
    {
     "name": "stdout",
     "output_type": "stream",
     "text": [
      "3\n"
     ]
    }
   ],
   "source": [
    "fruits = [\"apple\", \"banana\", \"pear\"]\n",
    "\n",
    "length = len(fruits)\n",
    "\n",
    "print(length)\n"
   ]
  },
  {
   "cell_type": "code",
   "execution_count": null,
   "metadata": {},
   "outputs": [],
   "source": [
    "def get_last_index(inventory):\n",
    "    return len(inventory) - 1\n",
    "\n"
   ]
  },
  {
   "cell_type": "code",
   "execution_count": 6,
   "metadata": {},
   "outputs": [
    {
     "name": "stdout",
     "output_type": "stream",
     "text": [
      "['Leather Armor', 'Healing Potion', 'Iron Ore']\n"
     ]
    }
   ],
   "source": [
    "inventory = [\"Leather\", \"Healing Potion\", \"Iron Ore\"]\n",
    "\n",
    "inventory[0] = \"Leather Armor\"\n",
    "\n",
    "print(inventory)\n"
   ]
  },
  {
   "cell_type": "code",
   "execution_count": 9,
   "metadata": {},
   "outputs": [
    {
     "name": "stdout",
     "output_type": "stream",
     "text": [
      "Inventory: ['Healing Potion', 'Iron Ore', 'Bread', 'Shortsword']\n",
      "Smelting ore: ['Healing Potion', 'Iron Bar', 'Bread', 'Shortsword']\n",
      "=====================================\n"
     ]
    }
   ],
   "source": [
    "def smelt_ore():\n",
    "    inventory = [\"Healing Potion\", \"Iron Ore\", \"Bread\", \"Shortsword\"]\n",
    "    \n",
    "    print(f\"Inventory: {inventory}\")\n",
    "    \n",
    "    inventory[1] = \"Iron Bar\"\n",
    "    \n",
    "    return inventory\n",
    "\n",
    "\n",
    "def test():\n",
    "    inventory = smelt_ore()\n",
    "    \n",
    "    print(f\"Smelting ore: {inventory}\")\n",
    "    print(\"=====================================\")\n",
    "\n",
    "\n",
    "def main():\n",
    "    test()\n",
    "\n",
    "\n",
    "main()\n"
   ]
  },
  {
   "cell_type": "code",
   "execution_count": 8,
   "metadata": {},
   "outputs": [
    {
     "name": "stdout",
     "output_type": "stream",
     "text": [
      "['nvidia', 'amd']\n"
     ]
    }
   ],
   "source": [
    "cards = []\n",
    "\n",
    "cards.append(\"nvidia\")\n",
    "cards.append(\"amd\")\n",
    "\n",
    "print(cards)\n"
   ]
  },
  {
   "cell_type": "code",
   "execution_count": null,
   "metadata": {},
   "outputs": [],
   "source": [
    "def generate_user_list(num_of_users):\n",
    "    player_ids = []\n",
    "\n",
    "    for i in range(num_of_users):\n",
    "        player_ids.append(i)\n",
    "\n",
    "    return player_ids\n",
    "\n"
   ]
  },
  {
   "cell_type": "code",
   "execution_count": 10,
   "metadata": {},
   "outputs": [
    {
     "name": "stdout",
     "output_type": "stream",
     "text": [
      "tomato\n"
     ]
    }
   ],
   "source": [
    "vegetables = [\"broccoli\", \"cabbage\", \"kale\", \"tomato\"];\n",
    "\n",
    "last_vegetable = vegetables.pop()\n",
    "\n",
    "print(last_vegetable)\n"
   ]
  },
  {
   "cell_type": "code",
   "execution_count": 11,
   "metadata": {},
   "outputs": [
    {
     "name": "stdout",
     "output_type": "stream",
     "text": [
      "inventory: ['Healing Potion', 'Iron Bar', 'Kite Shield', 'Shortsword', 'Leather Scraps', 'Tattered Cloth']\n",
      "Selling: Tattered Cloth\n",
      "inventory: ['Healing Potion', 'Iron Bar', 'Kite Shield', 'Shortsword', 'Leather Scraps']\n",
      "Selling: Leather Scraps\n",
      "inventory: ['Healing Potion', 'Iron Bar', 'Kite Shield', 'Shortsword']\n",
      "Selling: Shortsword\n",
      "inventory: ['Healing Potion', 'Iron Bar', 'Kite Shield']\n",
      "Selling: Kite Shield\n",
      "inventory: ['Healing Potion', 'Iron Bar']\n",
      "Selling: Iron Bar\n",
      "inventory: ['Healing Potion']\n",
      "Selling: Healing Potion\n",
      "inventory: []\n",
      "=====================================\n"
     ]
    }
   ],
   "source": [
    "def clear_inventory():\n",
    "    inventory = [\n",
    "        \"Healing Potion\",\n",
    "        \"Iron Bar\",\n",
    "        \"Kite Shield\",\n",
    "        \"Shortsword\",\n",
    "        \"Leather Scraps\",\n",
    "        \"Tattered Cloth\",\n",
    "    ]\n",
    "\n",
    "    print(f\"inventory: {inventory}\")\n",
    "\n",
    "    for i in range(0, len(inventory)):\n",
    "        item = inventory.pop()\n",
    "\n",
    "        print(f\"Selling: {item}\")\n",
    "        print(f\"inventory: {inventory}\")\n",
    "\n",
    "\n",
    "def test():\n",
    "    clear_inventory()\n",
    "    \n",
    "    print(\"=====================================\")\n",
    "\n",
    "\n",
    "def main():\n",
    "    test()\n",
    "\n",
    "\n",
    "main()\n"
   ]
  },
  {
   "cell_type": "code",
   "execution_count": null,
   "metadata": {},
   "outputs": [],
   "source": [
    "def get_item_counts(items):\n",
    "    potion_count = 0\n",
    "    bread_count = 0\n",
    "    shortsword_count = 0\n",
    "\n",
    "    for i in range(0, len(items)):\n",
    "        if items[i] == \"Potion\":\n",
    "            potion_count += 1\n",
    "        elif items[i] == \"Bread\":\n",
    "            bread_count += 1\n",
    "        elif items[i] == \"Shortsword\":\n",
    "            shortsword_count += 1\n",
    "\n",
    "    return potion_count, bread_count, shortsword_count\n",
    "\n"
   ]
  },
  {
   "cell_type": "code",
   "execution_count": 1,
   "metadata": {},
   "outputs": [
    {
     "name": "stdout",
     "output_type": "stream",
     "text": [
      "oak\n",
      "pine\n",
      "maple\n"
     ]
    }
   ],
   "source": [
    "trees = ['oak', 'pine', 'maple']\n",
    "\n",
    "for tree in trees:\n",
    "    print(tree)\n"
   ]
  },
  {
   "cell_type": "code",
   "execution_count": null,
   "metadata": {},
   "outputs": [],
   "source": [
    "def contains_leather_scraps(items):\n",
    "    found = False\n",
    "\n",
    "    for item in items:\n",
    "        if item == \"Leather Scraps\":\n",
    "            found = True\n",
    "\n",
    "    return found\n",
    "\n"
   ]
  },
  {
   "cell_type": "code",
   "execution_count": 2,
   "metadata": {},
   "outputs": [
    {
     "name": "stdout",
     "output_type": "stream",
     "text": [
      "Character level increased at indexes:\n",
      "2\n",
      "3\n",
      "7\n",
      "=====================================\n"
     ]
    }
   ],
   "source": [
    "def check_character_levels():\n",
    "    old_character_levels = [1, 42, 43, 53, 12, 3, 32, 34, 54, 32, 43]\n",
    "    new_character_levels = [1, 42, 45, 54, 12, 3, 32, 38, 54, 32, 42]\n",
    "\n",
    "    for i in range(0, len(old_character_levels)):\n",
    "        if new_character_levels[i] > old_character_levels[i]:\n",
    "            print(i)\n",
    "\n",
    "\n",
    "def test():\n",
    "    print(\"Character level increased at indexes:\")\n",
    "    \n",
    "    check_character_levels()\n",
    "    \n",
    "    print(\"=====================================\")\n",
    "\n",
    "\n",
    "def main():\n",
    "    test()\n",
    "\n",
    "\n",
    "main()\n"
   ]
  },
  {
   "cell_type": "code",
   "execution_count": null,
   "metadata": {},
   "outputs": [],
   "source": [
    "def find_max(nums):\n",
    "    max_so_far = float(\"-inf\")\n",
    "    \n",
    "    for num in nums:\n",
    "        if num > max_so_far:\n",
    "            max_so_far = num\n",
    "    \n",
    "    return max_so_far\n",
    "\n"
   ]
  },
  {
   "cell_type": "code",
   "execution_count": null,
   "metadata": {},
   "outputs": [],
   "source": [
    "def get_odd_numbers(num):\n",
    "    odd_numbers = []\n",
    "\n",
    "    for i in range(0, num):\n",
    "        if i % 2 != 0:\n",
    "            odd_numbers.append(i)\n",
    "\n",
    "    return odd_numbers\n",
    "\n"
   ]
  },
  {
   "cell_type": "markdown",
   "metadata": {},
   "source": [
    "my_list[ start : stop : step ]"
   ]
  },
  {
   "cell_type": "code",
   "execution_count": 4,
   "metadata": {},
   "outputs": [
    {
     "name": "stdout",
     "output_type": "stream",
     "text": [
      "[70, 20]\n"
     ]
    }
   ],
   "source": [
    "scores = [50, 70, 30, 20, 90, 10, 50]\n",
    "\n",
    "print(scores[1:5:2])\n"
   ]
  },
  {
   "cell_type": "code",
   "execution_count": 6,
   "metadata": {},
   "outputs": [
    {
     "name": "stdout",
     "output_type": "stream",
     "text": [
      "[0, 1, 2]\n",
      "[3, 4, 5, 6, 7, 8, 9]\n"
     ]
    }
   ],
   "source": [
    "numbers = [0, 1, 2, 3, 4, 5, 6, 7, 8, 9]\n",
    "\n",
    "print(numbers[:3])\n",
    "print(numbers[3:])\n"
   ]
  },
  {
   "cell_type": "code",
   "execution_count": 7,
   "metadata": {},
   "outputs": [
    {
     "name": "stdout",
     "output_type": "stream",
     "text": [
      "[0, 2, 4, 6, 8]\n"
     ]
    }
   ],
   "source": [
    "numbers = [0, 1, 2, 3, 4, 5, 6, 7, 8, 9]\n",
    "\n",
    "print(numbers[::2])\n"
   ]
  },
  {
   "cell_type": "code",
   "execution_count": 8,
   "metadata": {},
   "outputs": [
    {
     "name": "stdout",
     "output_type": "stream",
     "text": [
      "[7, 8, 9]\n"
     ]
    }
   ],
   "source": [
    "numbers = [0, 1, 2, 3, 4, 5, 6, 7, 8, 9]\n",
    "\n",
    "print(numbers[-3:])\n"
   ]
  },
  {
   "cell_type": "code",
   "execution_count": null,
   "metadata": {},
   "outputs": [],
   "source": [
    "def get_champion_slices(champions):\n",
    "    return champions[2:], champions[:-2], champions[::2]\n",
    "\n"
   ]
  },
  {
   "cell_type": "code",
   "execution_count": 9,
   "metadata": {},
   "outputs": [
    {
     "name": "stdout",
     "output_type": "stream",
     "text": [
      "[1, 2, 3, 4, 5, 6]\n"
     ]
    }
   ],
   "source": [
    "total = [1, 2, 3] + [4, 5, 6]\n",
    "\n",
    "print(total)\n"
   ]
  },
  {
   "cell_type": "code",
   "execution_count": null,
   "metadata": {},
   "outputs": [],
   "source": [
    "def concatenate_favorites(favorite_weapons, favorite_armor, favorite_items):\n",
    "    return favorite_weapons + favorite_armor + favorite_items\n",
    "\n"
   ]
  },
  {
   "cell_type": "code",
   "execution_count": 10,
   "metadata": {},
   "outputs": [
    {
     "name": "stdout",
     "output_type": "stream",
     "text": [
      "True\n"
     ]
    }
   ],
   "source": [
    "fruits = [\"apple\", \"orange\", \"banana\"]\n",
    "\n",
    "print(\"banana\" in fruits)\n"
   ]
  },
  {
   "cell_type": "code",
   "execution_count": null,
   "metadata": {},
   "outputs": [],
   "source": [
    "def is_top_weapon(weapon):\n",
    "    top_weapons = [\n",
    "        \"sword of justice\",\n",
    "        \"sword of slashing\",\n",
    "        \"stabby daggy\",\n",
    "        \"great axe\",\n",
    "        \"silver bow\",\n",
    "        \"spellbook\",\n",
    "        \"spiked knuckles\",\n",
    "    ]\n",
    "\n",
    "    return weapon in top_weapons\n",
    "\n"
   ]
  },
  {
   "cell_type": "code",
   "execution_count": 11,
   "metadata": {},
   "outputs": [
    {
     "name": "stdout",
     "output_type": "stream",
     "text": [
      "[1, 2, 3, 5, 6, 7, 8, 9]\n"
     ]
    }
   ],
   "source": [
    "nums = [1, 2, 3, 4, 5, 6, 7, 8, 9]\n",
    "\n",
    "del nums[3]\n",
    "\n",
    "print(nums)\n"
   ]
  },
  {
   "cell_type": "code",
   "execution_count": 12,
   "metadata": {},
   "outputs": [
    {
     "name": "stdout",
     "output_type": "stream",
     "text": [
      "[1, 4, 5, 6, 7, 8, 9]\n"
     ]
    }
   ],
   "source": [
    "nums = [1, 2, 3, 4, 5, 6, 7, 8, 9]\n",
    "\n",
    "del nums[1:3]\n",
    "\n",
    "print(nums)\n"
   ]
  },
  {
   "cell_type": "code",
   "execution_count": 13,
   "metadata": {},
   "outputs": [
    {
     "name": "stdout",
     "output_type": "stream",
     "text": [
      "[]\n"
     ]
    }
   ],
   "source": [
    "nums = [1, 2, 3, 4, 5, 6, 7, 8, 9]\n",
    "\n",
    "del nums[:]\n",
    "\n",
    "print(nums)\n"
   ]
  },
  {
   "cell_type": "code",
   "execution_count": null,
   "metadata": {},
   "outputs": [],
   "source": [
    "def trim_strongholds(strongholds):\n",
    "    del strongholds[0]\n",
    "    del strongholds[-2:]\n",
    "    \n",
    "    return strongholds\n",
    "\n"
   ]
  },
  {
   "cell_type": "code",
   "execution_count": 14,
   "metadata": {},
   "outputs": [
    {
     "name": "stdout",
     "output_type": "stream",
     "text": [
      "this is a tuple\n",
      "45\n",
      "True\n"
     ]
    }
   ],
   "source": [
    "my_tuple = (\"this is a tuple\", 45, True)\n",
    "\n",
    "print(my_tuple[0])\n",
    "print(my_tuple[1])\n",
    "print(my_tuple[2])\n"
   ]
  },
  {
   "cell_type": "code",
   "execution_count": 15,
   "metadata": {},
   "outputs": [
    {
     "name": "stdout",
     "output_type": "stream",
     "text": [
      "('Fido', 4)\n"
     ]
    }
   ],
   "source": [
    "dog = (\"Fido\", 4)\n",
    "\n",
    "print(dog)\n"
   ]
  },
  {
   "cell_type": "code",
   "execution_count": 16,
   "metadata": {},
   "outputs": [
    {
     "name": "stdout",
     "output_type": "stream",
     "text": [
      "('Fido',)\n"
     ]
    }
   ],
   "source": [
    "dog = (\"Fido\",)\n",
    "\n",
    "print(dog)\n"
   ]
  },
  {
   "cell_type": "code",
   "execution_count": 17,
   "metadata": {},
   "outputs": [
    {
     "name": "stdout",
     "output_type": "stream",
     "text": [
      "this is the first tuple in the list\n",
      "45\n",
      "this is the second tuple in the list\n",
      "False\n"
     ]
    }
   ],
   "source": [
    "my_tuples = [(\"this is the first tuple in the list\", 45, True),(\"this is the second tuple in the list\", 21, False)]\n",
    "\n",
    "print(my_tuples[0][0])\n",
    "print(my_tuples[0][1])\n",
    "print(my_tuples[1][0])\n",
    "print(my_tuples[1][2])\n"
   ]
  },
  {
   "cell_type": "code",
   "execution_count": 18,
   "metadata": {},
   "outputs": [
    {
     "name": "stdout",
     "output_type": "stream",
     "text": [
      "name: Glorfindel, age: 2093, is_elf: True\n",
      "name: Gandalf, age: 1054, is_elf: False\n",
      "name: Gimli, age: 389, is_elf: False\n",
      "name: Aragorn, age: 87, is_elf: False\n"
     ]
    }
   ],
   "source": [
    "def get_heroes():\n",
    "    heroes = [\n",
    "        (\n",
    "            \"Glorfindel\",\n",
    "            2093,\n",
    "            True,\n",
    "        ),\n",
    "        (\n",
    "            \"Gandalf\",\n",
    "            1054,\n",
    "            False,\n",
    "        ),\n",
    "        (\n",
    "            \"Gimli\",\n",
    "            389,\n",
    "            False,\n",
    "        ),\n",
    "        (\n",
    "            \"Aragorn\",\n",
    "            87,\n",
    "            False,\n",
    "        ),\n",
    "    ]\n",
    "\n",
    "    return heroes\n",
    "\n",
    "\n",
    "def test():\n",
    "    heroes = get_heroes()\n",
    "    \n",
    "    for hero in heroes:\n",
    "        print(f\"name: {hero[0]}, age: {hero[1]}, is_elf: {hero[2]}\")\n",
    "\n",
    "\n",
    "def main():\n",
    "    test()\n",
    "\n",
    "\n",
    "main()\n"
   ]
  },
  {
   "cell_type": "code",
   "execution_count": 19,
   "metadata": {},
   "outputs": [
    {
     "name": "stdout",
     "output_type": "stream",
     "text": [
      "name: Glorfindel, age: 2093, is_elf: True\n",
      "name: Gandalf, age: 1054, is_elf: False\n",
      "name: Gimli, age: 389, is_elf: False\n",
      "name: Aragorn, age: 87, is_elf: False\n"
     ]
    }
   ],
   "source": [
    "def get_heroes():\n",
    "    heroes = [\n",
    "        (\"Glorfindel\", 2093, True),\n",
    "        (\"Gandalf\", 1054, False),\n",
    "        (\"Gimli\", 389, False),\n",
    "        (\"Aragorn\", 87, False),\n",
    "    ]\n",
    "\n",
    "    return heroes\n",
    "\n",
    "\n",
    "def test():\n",
    "    heroes = get_heroes()\n",
    "    \n",
    "    for hero in heroes:\n",
    "        print(f\"name: {hero[0]}, age: {hero[1]}, is_elf: {hero[2]}\")\n",
    "\n",
    "\n",
    "def main():\n",
    "    test()\n",
    "\n",
    "\n",
    "main()\n"
   ]
  },
  {
   "cell_type": "code",
   "execution_count": null,
   "metadata": {},
   "outputs": [],
   "source": [
    "def get_first_item(items):\n",
    "    if len(items) == 0:\n",
    "        return \"ERROR\"\n",
    "    \n",
    "    return items[0]\n",
    "\n"
   ]
  },
  {
   "cell_type": "code",
   "execution_count": null,
   "metadata": {},
   "outputs": [],
   "source": [
    "def get_first_item(items):\n",
    "    if items:\n",
    "        return items[0]\n",
    "    else:\n",
    "        return \"ERROR\"\n",
    "    \n"
   ]
  },
  {
   "cell_type": "code",
   "execution_count": null,
   "metadata": {},
   "outputs": [],
   "source": [
    "def reverse_array(items):\n",
    "    new_array = []\n",
    "    \n",
    "    for i in range(len(items) - 1, -1, -1):\n",
    "        new_array.append(items[i])\n",
    "    \n",
    "    return new_array\n",
    "\n"
   ]
  },
  {
   "cell_type": "code",
   "execution_count": null,
   "metadata": {},
   "outputs": [],
   "source": [
    "def reverse_array(items):\n",
    "    return items[::-1]\n",
    "\n"
   ]
  },
  {
   "cell_type": "code",
   "execution_count": 20,
   "metadata": {},
   "outputs": [
    {
     "name": "stdout",
     "output_type": "stream",
     "text": [
      "['hello', 'there', 'sam']\n"
     ]
    }
   ],
   "source": [
    "message = \"hello there sam\"\n",
    "\n",
    "words = message.split()\n",
    "\n",
    "print(words)\n"
   ]
  },
  {
   "cell_type": "code",
   "execution_count": 21,
   "metadata": {},
   "outputs": [
    {
     "name": "stdout",
     "output_type": "stream",
     "text": [
      "hello there sam\n"
     ]
    }
   ],
   "source": [
    "list_of_words = [\"hello\", \"there\", \"sam\"]\n",
    "\n",
    "sentence = \" \".join(list_of_words)\n",
    "\n",
    "print(sentence)\n"
   ]
  },
  {
   "cell_type": "code",
   "execution_count": null,
   "metadata": {},
   "outputs": [],
   "source": [
    "def filter_messages(messages):\n",
    "    filtered_messages = []\n",
    "    words_removed = []\n",
    "    \n",
    "    for message in messages:\n",
    "        words = message.split()\n",
    "        \n",
    "        new_words = []\n",
    "        \n",
    "        removed = 0\n",
    "        \n",
    "        for word in words:\n",
    "            if word == \"dang\":\n",
    "                removed += 1\n",
    "            else:\n",
    "                new_words.append(word)\n",
    "        \n",
    "        filtered_messages.append(\" \".join(new_words))\n",
    "        \n",
    "        words_removed.append(removed)\n",
    "\n",
    "    return filtered_messages, words_removed\n",
    "\n"
   ]
  },
  {
   "cell_type": "code",
   "execution_count": null,
   "metadata": {},
   "outputs": [],
   "source": [
    "def get_odds_and_evens(numbers):\n",
    "    num_evens = 0\n",
    "    num_odds = 0\n",
    "\n",
    "    for number in numbers:\n",
    "        if number % 2 == 0:\n",
    "            num_evens += 1\n",
    "        else:\n",
    "            num_odds += 1\n",
    "    \n",
    "    return num_odds, num_evens\n",
    "\n"
   ]
  },
  {
   "cell_type": "code",
   "execution_count": null,
   "metadata": {},
   "outputs": [],
   "source": [
    "def split_players_into_teams(players):\n",
    "    even_team = players[::2]\n",
    "    odd_team = players[1::2]\n",
    "    \n",
    "    return even_team, odd_team\n",
    "\n"
   ]
  },
  {
   "cell_type": "code",
   "execution_count": null,
   "metadata": {},
   "outputs": [],
   "source": [
    "def get_test_score(answer_sheet, student_answers):\n",
    "    score = 0\n",
    "    \n",
    "    for i in range(len(answer_sheet)):\n",
    "        if answer_sheet[i] == student_answers[i]:\n",
    "            score += 1\n",
    "    \n",
    "    percentage = score / len(answer_sheet) * 100\n",
    "    \n",
    "    return percentage\n",
    "\n"
   ]
  },
  {
   "cell_type": "code",
   "execution_count": null,
   "metadata": {},
   "outputs": [],
   "source": [
    "def get_test_score(answer_sheet, student_answers):\n",
    "    score = 0\n",
    "    \n",
    "    student_name = student_answers[0]\n",
    "    \n",
    "    for i in range(len(answer_sheet)):\n",
    "        if answer_sheet[i] == student_answers[i + 1]:\n",
    "            score += 1\n",
    "    \n",
    "    percentage = score / len(answer_sheet) * 100\n",
    "    \n",
    "    return student_name, percentage\n",
    "\n"
   ]
  },
  {
   "cell_type": "code",
   "execution_count": null,
   "metadata": {},
   "outputs": [],
   "source": [
    "def double_string(string):\n",
    "    output = \"\"\n",
    "    \n",
    "    for s in string:\n",
    "        output = output + s * 2\n",
    "    \n",
    "    return output\n",
    "\n"
   ]
  }
 ],
 "metadata": {
  "kernelspec": {
   "display_name": "venv",
   "language": "python",
   "name": "python3"
  },
  "language_info": {
   "codemirror_mode": {
    "name": "ipython",
    "version": 3
   },
   "file_extension": ".py",
   "mimetype": "text/x-python",
   "name": "python",
   "nbconvert_exporter": "python",
   "pygments_lexer": "ipython3",
   "version": "3.12.2"
  }
 },
 "nbformat": 4,
 "nbformat_minor": 2
}
