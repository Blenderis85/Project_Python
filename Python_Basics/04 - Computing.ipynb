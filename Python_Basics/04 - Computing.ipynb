{
 "cells": [
  {
   "cell_type": "code",
   "execution_count": 1,
   "metadata": {},
   "outputs": [
    {
     "data": {
      "text/plain": [
       "3"
      ]
     },
     "execution_count": 1,
     "metadata": {},
     "output_type": "execute_result"
    }
   ],
   "source": [
    "2 + 1\n"
   ]
  },
  {
   "cell_type": "code",
   "execution_count": 2,
   "metadata": {},
   "outputs": [
    {
     "data": {
      "text/plain": [
       "1"
      ]
     },
     "execution_count": 2,
     "metadata": {},
     "output_type": "execute_result"
    }
   ],
   "source": [
    "2 - 1\n"
   ]
  },
  {
   "cell_type": "code",
   "execution_count": 3,
   "metadata": {},
   "outputs": [
    {
     "data": {
      "text/plain": [
       "4"
      ]
     },
     "execution_count": 3,
     "metadata": {},
     "output_type": "execute_result"
    }
   ],
   "source": [
    "2 * 2\n"
   ]
  },
  {
   "cell_type": "code",
   "execution_count": 4,
   "metadata": {},
   "outputs": [
    {
     "data": {
      "text/plain": [
       "1.5"
      ]
     },
     "execution_count": 4,
     "metadata": {},
     "output_type": "execute_result"
    }
   ],
   "source": [
    "3 / 2\n"
   ]
  },
  {
   "cell_type": "code",
   "execution_count": 1,
   "metadata": {},
   "outputs": [
    {
     "data": {
      "text/plain": [
       "2"
      ]
     },
     "execution_count": 1,
     "metadata": {},
     "output_type": "execute_result"
    }
   ],
   "source": [
    "7 // 3"
   ]
  },
  {
   "cell_type": "code",
   "execution_count": 2,
   "metadata": {},
   "outputs": [
    {
     "data": {
      "text/plain": [
       "9"
      ]
     },
     "execution_count": 2,
     "metadata": {},
     "output_type": "execute_result"
    }
   ],
   "source": [
    "3 ** 2"
   ]
  },
  {
   "cell_type": "code",
   "execution_count": 5,
   "metadata": {},
   "outputs": [],
   "source": [
    "def calculate_damage(sword, arrow, spear, dagger, fire):\n",
    "    total_damage = sword + arrow + spear + dagger + fire\n",
    "    \n",
    "    average_damage = total_damage / 5\n",
    "    \n",
    "    return total_damage, average_damage\n",
    "\n"
   ]
  },
  {
   "cell_type": "code",
   "execution_count": null,
   "metadata": {},
   "outputs": [],
   "source": [
    "def update_player_score(current_score, increment):\n",
    "    current_score = current_score + increment\n",
    "    \n",
    "    return current_score\n",
    "\n"
   ]
  },
  {
   "cell_type": "code",
   "execution_count": null,
   "metadata": {},
   "outputs": [],
   "source": [
    "star_rating = 4\n",
    "star_rating += 1\n",
    "# star_rating is now 5\n",
    "\n",
    "star_rating = 4\n",
    "star_rating -= 1\n",
    "# star_rating is now 3\n",
    "\n",
    "star_rating = 4\n",
    "star_rating *= 2\n",
    "# star_rating is now 8\n",
    "\n",
    "star_rating = 4\n",
    "star_rating /= 2\n",
    "# star_rating is now 2.0"
   ]
  },
  {
   "cell_type": "code",
   "execution_count": null,
   "metadata": {},
   "outputs": [],
   "source": [
    "def get_hurt(current_health, damage):\n",
    "    current_health -= damage\n",
    "    \n",
    "    return current_health\n",
    "\n"
   ]
  },
  {
   "cell_type": "code",
   "execution_count": 7,
   "metadata": {},
   "outputs": [
    {
     "name": "stdout",
     "output_type": "stream",
     "text": [
      "16000.0\n",
      "0.071\n"
     ]
    }
   ],
   "source": [
    "print(16e3)\n",
    "print(7.1e-2)\n"
   ]
  },
  {
   "cell_type": "code",
   "execution_count": 8,
   "metadata": {},
   "outputs": [
    {
     "name": "stdout",
     "output_type": "stream",
     "text": [
      "16000\n",
      "16000000\n"
     ]
    }
   ],
   "source": [
    "num = 16_000\n",
    "print(num)\n",
    "\n",
    "num = 16_000_000\n",
    "print(num)\n"
   ]
  },
  {
   "cell_type": "code",
   "execution_count": null,
   "metadata": {},
   "outputs": [],
   "source": [
    "def max_players_on_server():\n",
    "    small = 1.024e18\n",
    "    medium = 1.024e19\n",
    "    large = 1.024e20\n",
    "    \n",
    "    return small, medium, large\n",
    "\n"
   ]
  },
  {
   "cell_type": "markdown",
   "metadata": {},
   "source": [
    "```python\n",
    "True and True == True\n",
    "True and False == False\n",
    "False and False == False\n",
    "\n",
    "True or True == True\n",
    "True or False == True\n",
    "False or False == False\n",
    "```"
   ]
  },
  {
   "cell_type": "code",
   "execution_count": 9,
   "metadata": {},
   "outputs": [
    {
     "name": "stdout",
     "output_type": "stream",
     "text": [
      "True\n",
      "True\n"
     ]
    }
   ],
   "source": [
    "print(True and True)\n",
    "print(True or False)\n"
   ]
  },
  {
   "cell_type": "code",
   "execution_count": 10,
   "metadata": {},
   "outputs": [
    {
     "name": "stdout",
     "output_type": "stream",
     "text": [
      "False\n"
     ]
    }
   ],
   "source": [
    "print((True or False) and False)\n"
   ]
  },
  {
   "cell_type": "code",
   "execution_count": 11,
   "metadata": {},
   "outputs": [
    {
     "name": "stdout",
     "output_type": "stream",
     "text": [
      "False\n"
     ]
    }
   ],
   "source": [
    "print(True and False)\n"
   ]
  },
  {
   "cell_type": "code",
   "execution_count": 12,
   "metadata": {},
   "outputs": [
    {
     "name": "stdout",
     "output_type": "stream",
     "text": [
      "False\n"
     ]
    }
   ],
   "source": [
    "print(False)\n"
   ]
  },
  {
   "attachments": {
    "IMG.png": {
     "image/png": "[encoded data removed]"
    }
   },
   "cell_type": "markdown",
   "metadata": {},
   "source": [
    "## BINARY NUMBERS\n",
    "\n",
    "![IMG.png](attachment:IMG.png)\n",
    "\n",
    "- 0001 = 1\n",
    "- 0010 = 2\n",
    "- 0011 = 3\n",
    "- 0100 = 4\n",
    "- 0101 = 5\n",
    "- 0110 = 6\n",
    "- 0111 = 7\n",
    "- 1000 = 8\n",
    "- 1001 = 9\n",
    "- 1010 = 10\n",
    "- 1011 = 11\n",
    "- 1100 = 12\n",
    "- 1101 = 13\n",
    "- 1110 = 14\n",
    "- 1111 = 15"
   ]
  },
  {
   "cell_type": "code",
   "execution_count": 13,
   "metadata": {},
   "outputs": [
    {
     "name": "stdout",
     "output_type": "stream",
     "text": [
      "1\n",
      "5\n"
     ]
    }
   ],
   "source": [
    "print(0b0001)\n",
    "print(0b0101)\n"
   ]
  },
  {
   "cell_type": "markdown",
   "metadata": {},
   "source": [
    "```python\n",
    "0101 = 5\n",
    "&\n",
    "0111 = 7\n",
    "=\n",
    "0101 = 5\n",
    "```"
   ]
  },
  {
   "cell_type": "markdown",
   "metadata": {},
   "source": [
    "```python\n",
    "0101 = 5\n",
    "&\n",
    "0010 = 2\n",
    "=\n",
    "0000 = 0\n",
    "```"
   ]
  },
  {
   "cell_type": "markdown",
   "metadata": {},
   "source": [
    "- 0b0101 is 5\n",
    "- 0b0111 is 7"
   ]
  },
  {
   "cell_type": "code",
   "execution_count": null,
   "metadata": {},
   "outputs": [],
   "source": [
    "can_create_guild = 0b1000\n",
    "can_review_guild = 0b0100\n",
    "can_delete_guild = 0b0010\n",
    "can_edit_guild = 0b0001\n",
    "\n",
    "\n",
    "def can_create_bits(user_permissions):\n",
    "    return user_permissions & can_create_guild\n",
    "\n",
    "\n",
    "def can_review_bits(user_permissions):\n",
    "    return user_permissions & can_review_guild\n",
    "\n",
    "\n",
    "def can_delete_bits(user_permissions):\n",
    "    return user_permissions & can_delete_guild\n",
    "\n",
    "\n",
    "def can_edit_bits(user_permissions):\n",
    "    return user_permissions & can_edit_guild\n",
    "\n"
   ]
  },
  {
   "cell_type": "markdown",
   "metadata": {},
   "source": [
    "```python\n",
    "0101\n",
    "|\n",
    "0111\n",
    "=\n",
    "0111\n",
    "```"
   ]
  },
  {
   "cell_type": "markdown",
   "metadata": {},
   "source": [
    "```python\n",
    "0101 = 5\n",
    "|\n",
    "0010 = 2\n",
    "=\n",
    "0111 = 7\n",
    "```"
   ]
  },
  {
   "cell_type": "code",
   "execution_count": null,
   "metadata": {},
   "outputs": [],
   "source": [
    "def calculate_guild_perms(glorfindel, galadriel, elendil, elrond):\n",
    "    return glorfindel | galadriel | elendil | elrond\n",
    "\n"
   ]
  },
  {
   "cell_type": "code",
   "execution_count": 14,
   "metadata": {},
   "outputs": [
    {
     "name": "stdout",
     "output_type": "stream",
     "text": [
      "False\n",
      "True\n"
     ]
    }
   ],
   "source": [
    "print(not True)\n",
    "print(not False)\n"
   ]
  },
  {
   "cell_type": "code",
   "execution_count": 15,
   "metadata": {},
   "outputs": [
    {
     "name": "stdout",
     "output_type": "stream",
     "text": [
      "37.5% of fruit bats are male\n",
      "=====================================\n",
      "45.0% of fruit bats are male\n",
      "=====================================\n"
     ]
    }
   ],
   "source": [
    "def main():\n",
    "    test(8_000_000, 3_000_000)\n",
    "    test(10_000_000, 4_500_000)\n",
    "\n",
    "\n",
    "def calculate_male_ratio(num_fruit_bats, num_male_bats):\n",
    "    return num_male_bats / num_fruit_bats\n",
    "\n",
    "\n",
    "def test(num_fruit_bats, num_male_bats):\n",
    "    ratio = calculate_male_ratio(num_fruit_bats, num_male_bats)\n",
    "    \n",
    "    print(f\"{ratio * 100}% of fruit bats are male\")\n",
    "    print(\"=====================================\")\n",
    "\n",
    "\n",
    "main()\n"
   ]
  },
  {
   "cell_type": "code",
   "execution_count": null,
   "metadata": {},
   "outputs": [],
   "source": [
    "# this is a binary string\n",
    "binary_string = \"100\"\n",
    "\n",
    "# convert binary string to integer\n",
    "num = int(binary_string, 2)\n"
   ]
  },
  {
   "cell_type": "code",
   "execution_count": null,
   "metadata": {},
   "outputs": [],
   "source": [
    "def body_parts(num_heads, num_arms, num_fingers):\n",
    "    heads = int(num_heads, 2)\n",
    "    arms = int(num_arms, 2)\n",
    "    fingers = int(num_fingers, 2)\n",
    "    \n",
    "    return heads, arms, fingers\n",
    "\n"
   ]
  }
 ],
 "metadata": {
  "kernelspec": {
   "display_name": "venv",
   "language": "python",
   "name": "python3"
  },
  "language_info": {
   "codemirror_mode": {
    "name": "ipython",
    "version": 3
   },
   "file_extension": ".py",
   "mimetype": "text/x-python",
   "name": "python",
   "nbconvert_exporter": "python",
   "pygments_lexer": "ipython3",
   "version": "3.12.2"
  }
 },
 "nbformat": 4,
 "nbformat_minor": 2
}
