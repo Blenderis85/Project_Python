{
 "cells": [
  {
   "cell_type": "code",
   "execution_count": 1,
   "metadata": {},
   "outputs": [
    {
     "name": "stdout",
     "output_type": "stream",
     "text": [
      "max_health is: 50\n"
     ]
    }
   ],
   "source": [
    "def get_max_health(modifier, level):\n",
    "    return modifier * level\n",
    "\n",
    "\n",
    "my_modifier = 5\n",
    "my_level = 10\n",
    "\n",
    "max_health = get_max_health(my_modifier, my_level)\n",
    "\n",
    "print(f\"max_health is: {max_health}\")\n"
   ]
  },
  {
   "cell_type": "code",
   "execution_count": 3,
   "metadata": {},
   "outputs": [
    {
     "data": {
      "text/plain": [
       "78.5"
      ]
     },
     "execution_count": 3,
     "metadata": {},
     "output_type": "execute_result"
    }
   ],
   "source": [
    "pi = 3.14\n",
    "\n",
    "def get_area_of_circle(radius):\n",
    "    return pi * radius * radius\n",
    "\n",
    "\n",
    "get_area_of_circle(5)\n"
   ]
  },
  {
   "cell_type": "code",
   "execution_count": 2,
   "metadata": {},
   "outputs": [
    {
     "name": "stdout",
     "output_type": "stream",
     "text": [
      "Character has 40 max health.\n",
      "Character has 15 primary stats.\n"
     ]
    }
   ],
   "source": [
    "player_level = 4\n",
    "\n",
    "\n",
    "def calculate_health(modifier):\n",
    "    return player_level * modifier\n",
    "\n",
    "\n",
    "def calculate_primary_stats(armor_bonus, modifier):\n",
    "    return armor_bonus + modifier + player_level\n",
    "\n",
    "\n",
    "print(f\"Character has {calculate_health(10)} max health.\")\n",
    "print(f\"Character has {calculate_primary_stats(3, 8)} primary stats.\")\n"
   ]
  }
 ],
 "metadata": {
  "kernelspec": {
   "display_name": "venv",
   "language": "python",
   "name": "python3"
  },
  "language_info": {
   "codemirror_mode": {
    "name": "ipython",
    "version": 3
   },
   "file_extension": ".py",
   "mimetype": "text/x-python",
   "name": "python",
   "nbconvert_exporter": "python",
   "pygments_lexer": "ipython3",
   "version": "3.10.12"
  }
 },
 "nbformat": 4,
 "nbformat_minor": 2
}
