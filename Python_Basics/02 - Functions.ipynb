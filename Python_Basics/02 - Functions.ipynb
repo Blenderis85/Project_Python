{
 "cells": [
  {
   "cell_type": "code",
   "execution_count": 4,
   "metadata": {},
   "outputs": [
    {
     "name": "stdout",
     "output_type": "stream",
     "text": [
      "78.5\n"
     ]
    }
   ],
   "source": [
    "radius = 5\n",
    "\n",
    "area = 3.14 * radius * radius\n",
    "\n",
    "print(area)\n"
   ]
  },
  {
   "cell_type": "code",
   "execution_count": 5,
   "metadata": {},
   "outputs": [
    {
     "name": "stdout",
     "output_type": "stream",
     "text": [
      "78.5\n",
      "153.86\n"
     ]
    }
   ],
   "source": [
    "radius = 5\n",
    "area1 = 3.14 * radius * radius\n",
    "\n",
    "radius2 = 7\n",
    "area2 = 3.14 * radius2 * radius2\n",
    "\n",
    "print(area1)\n",
    "print(area2)\n"
   ]
  },
  {
   "cell_type": "code",
   "execution_count": 6,
   "metadata": {},
   "outputs": [
    {
     "name": "stdout",
     "output_type": "stream",
     "text": [
      "78.5\n",
      "113.03999999999999\n"
     ]
    }
   ],
   "source": [
    "def area_of_circle(r):\n",
    "    pi = 3.14\n",
    "    \n",
    "    result = pi * r * r\n",
    "    \n",
    "    return result\n",
    "\n",
    "\n",
    "area = area_of_circle(5)\n",
    "print(area)\n",
    "\n",
    "area = area_of_circle(6)\n",
    "print(area)\n"
   ]
  },
  {
   "cell_type": "code",
   "execution_count": 7,
   "metadata": {},
   "outputs": [
    {
     "name": "stdout",
     "output_type": "stream",
     "text": [
      "Sword length: 1.0 meters.\n",
      "Sword attack area: 3.14 square meters\n",
      "Spear length: 2.0 meters.\n",
      "Spear attack area: 12.56 square meters\n"
     ]
    }
   ],
   "source": [
    "def area_of_circle(radius):\n",
    "    pi = 3.14\n",
    "    \n",
    "    area = pi * radius * radius\n",
    "    \n",
    "    return area\n",
    "\n",
    "\n",
    "sword_length = 1.0\n",
    "spear_length = 2.0\n",
    "\n",
    "sword_area = area_of_circle(sword_length)\n",
    "spear_area = area_of_circle(spear_length)\n",
    "\n",
    "print(\"Sword length:\", sword_length, \"meters.\")\n",
    "print(\"Sword attack area:\", sword_area, \"square meters\")\n",
    "\n",
    "print(\"Spear length:\", spear_length, \"meters.\")\n",
    "print(\"Spear attack area:\", spear_area, \"square meters\")\n"
   ]
  },
  {
   "cell_type": "code",
   "execution_count": 1,
   "metadata": {},
   "outputs": [
    {
     "name": "stdout",
     "output_type": "stream",
     "text": [
      "78.5\n"
     ]
    }
   ],
   "source": [
    "def area_of_circle(r):\n",
    "    pi = 3.14\n",
    "    \n",
    "    result = pi * r * r\n",
    "    \n",
    "    return result\n",
    "\n",
    "\n",
    "radius = 5\n",
    "\n",
    "area = area_of_circle(radius)\n",
    "\n",
    "print(area)\n"
   ]
  },
  {
   "cell_type": "code",
   "execution_count": 8,
   "metadata": {},
   "outputs": [
    {
     "name": "stdout",
     "output_type": "stream",
     "text": [
      "2\n"
     ]
    }
   ],
   "source": [
    "def subtract(a, b):\n",
    "    result = a - b\n",
    "    \n",
    "    return result\n",
    "\n",
    "\n",
    "result = subtract(5, 3)\n",
    "\n",
    "print(result)\n"
   ]
  },
  {
   "cell_type": "code",
   "execution_count": 9,
   "metadata": {},
   "outputs": [
    {
     "name": "stdout",
     "output_type": "stream",
     "text": [
      "Your name is John and you are 30 years old. You are 1.8 meters tall and weigh 80 kilograms.\n"
     ]
    }
   ],
   "source": [
    "def create_introduction(name, age, height, weight):\n",
    "    first_part = \"Your name is \" + name + \" and you are \" + age + \" years old.\"\n",
    "    second_part = \"You are \" + height + \" meters tall and weigh \" + weight + \" kilograms.\"\n",
    "    \n",
    "    full_intro = first_part + \" \" + second_part\n",
    "    \n",
    "    return full_intro\n",
    "\n",
    "\n",
    "intro = create_introduction(\"John\", \"30\", \"1.8\", \"80\")\n",
    "\n",
    "print(intro)\n"
   ]
  },
  {
   "cell_type": "code",
   "execution_count": 10,
   "metadata": {},
   "outputs": [
    {
     "name": "stdout",
     "output_type": "stream",
     "text": [
      "Getting damage for 2 4 and 3 ...\n",
      "9 points of damage dealt!\n",
      "=====================================\n",
      "Getting damage for -1 10 and 5 ...\n",
      "14 points of damage dealt!\n",
      "=====================================\n"
     ]
    }
   ],
   "source": [
    "dmg_one = 2\n",
    "dmg_two = 4\n",
    "dmg_three = 3\n",
    "dmg_four = -1\n",
    "dmg_five = 10\n",
    "dmg_six = 5\n",
    "\n",
    "\n",
    "def calculate_damage(opening_attack, core_damage, finishing_move):\n",
    "    total_damage = opening_attack + core_damage + finishing_move\n",
    "    \n",
    "    return total_damage\n",
    "\n",
    "\n",
    "print(\"Getting damage for\", dmg_one, dmg_two, \"and\", dmg_three, \"...\")\n",
    "print(calculate_damage(dmg_one, dmg_two, dmg_three), \"points of damage dealt!\")\n",
    "print(\"=====================================\")\n",
    "\n",
    "print(\"Getting damage for\", dmg_four, dmg_five, \"and\", dmg_six, \"...\")\n",
    "print(calculate_damage(dmg_four, dmg_five, dmg_six), \"points of damage dealt!\")\n",
    "print(\"=====================================\")\n"
   ]
  },
  {
   "cell_type": "code",
   "execution_count": 11,
   "metadata": {},
   "outputs": [
    {
     "name": "stdout",
     "output_type": "stream",
     "text": [
      "Fantasy Quest is booting up...\n",
      "Game is running!\n"
     ]
    }
   ],
   "source": [
    "def main():\n",
    "    print(\"Fantasy Quest is booting up...\")\n",
    "    print(\"Game is running!\")\n",
    "\n",
    "\n",
    "main()\n"
   ]
  },
  {
   "cell_type": "code",
   "execution_count": 12,
   "metadata": {},
   "outputs": [
    {
     "name": "stdout",
     "output_type": "stream",
     "text": [
      "The player now has 15 health\n"
     ]
    }
   ],
   "source": [
    "def main():\n",
    "    health = 10\n",
    "    armor = 5\n",
    "    \n",
    "    add_armor(health, armor)\n",
    "\n",
    "\n",
    "def add_armor(h, a):\n",
    "    new_health = h + a\n",
    "    \n",
    "    print_health(new_health)\n",
    "\n",
    "\n",
    "def print_health(new_health):\n",
    "    print(f\"The player now has {new_health} health\")\n",
    "\n",
    "\n",
    "# call entrypoint last\n",
    "main()\n"
   ]
  },
  {
   "cell_type": "markdown",
   "metadata": {},
   "source": [
    "```python\n",
    "celsius = 5/9 * (fahrenheit-32)\n",
    "```"
   ]
  },
  {
   "cell_type": "code",
   "execution_count": 2,
   "metadata": {},
   "outputs": [
    {
     "name": "stdout",
     "output_type": "stream",
     "text": [
      "100 degrees fahrenheit is 37.78 degrees celsius\n",
      "88 degrees fahrenheit is 31.11 degrees celsius\n",
      "104 degrees fahrenheit is 40.0 degrees celsius\n",
      "112 degrees fahrenheit is 44.44 degrees celsius\n"
     ]
    }
   ],
   "source": [
    "def to_celsius(f):\n",
    "    c = 5 / 9 * (f - 32)\n",
    "    \n",
    "    return c\n",
    "\n",
    "\n",
    "def test(f):\n",
    "    c = round(to_celsius(f), 2)\n",
    "    \n",
    "    print(f, \"degrees fahrenheit is\", c, \"degrees celsius\")\n",
    "\n",
    "\n",
    "test(100)\n",
    "test(88)\n",
    "test(104)\n",
    "test(112)\n"
   ]
  },
  {
   "cell_type": "code",
   "execution_count": 15,
   "metadata": {},
   "outputs": [
    {
     "name": "stdout",
     "output_type": "stream",
     "text": [
      "60\n",
      "30\n",
      "0.0\n",
      "100.0\n"
     ]
    }
   ],
   "source": [
    "def calculate_damage(opening_attack, core_damage, finishing_move):\n",
    "    total = opening_attack + core_damage + finishing_move\n",
    "    \n",
    "    return total\n",
    "\n",
    "\n",
    "def to_celsius(f):\n",
    "    c = 5 / 9 * (f - 32)\n",
    "    \n",
    "    return c\n",
    "\n",
    "\n",
    "damage1 = calculate_damage(10, 20, 30)\n",
    "damage2 = calculate_damage(5, 10, 15)\n",
    "\n",
    "temp1 = to_celsius(32)\n",
    "temp2 = to_celsius(212)\n",
    "\n",
    "print(damage1)\n",
    "print(damage2)\n",
    "\n",
    "print(temp1)\n",
    "print(temp2)\n"
   ]
  },
  {
   "cell_type": "code",
   "execution_count": 1,
   "metadata": {},
   "outputs": [
    {
     "name": "stdout",
     "output_type": "stream",
     "text": [
      "10 hours is 36000 seconds\n",
      "1 hours is 3600 seconds\n",
      "25 hours is 90000 seconds\n",
      "100 hours is 360000 seconds\n",
      "33 hours is 118800 seconds\n"
     ]
    }
   ],
   "source": [
    "def hours_to_seconds(hours):\n",
    "    return hours * 60 * 60\n",
    "\n",
    "\n",
    "def test(hours):\n",
    "    secs = hours_to_seconds(hours)\n",
    "    \n",
    "    print(hours, \"hours is\", secs, \"seconds\")\n",
    "\n",
    "\n",
    "test(10)\n",
    "test(1)\n",
    "test(25)\n",
    "test(100)\n",
    "test(33)\n"
   ]
  },
  {
   "cell_type": "code",
   "execution_count": 17,
   "metadata": {},
   "outputs": [
    {
     "name": "stdout",
     "output_type": "stream",
     "text": [
      "I do nothing\n"
     ]
    }
   ],
   "source": [
    "def my_func():\n",
    "    print(\"I do nothing\")\n",
    "    \n",
    "    return None\n",
    "\n",
    "\n",
    "my_func()\n"
   ]
  },
  {
   "cell_type": "code",
   "execution_count": 18,
   "metadata": {},
   "outputs": [
    {
     "name": "stdout",
     "output_type": "stream",
     "text": [
      "I do nothing\n"
     ]
    }
   ],
   "source": [
    "def my_func():\n",
    "    print(\"I do nothing\")\n",
    "    \n",
    "    return\n",
    "\n",
    "\n",
    "my_func()\n"
   ]
  },
  {
   "cell_type": "code",
   "execution_count": 19,
   "metadata": {},
   "outputs": [
    {
     "name": "stdout",
     "output_type": "stream",
     "text": [
      "I do nothing\n"
     ]
    }
   ],
   "source": [
    "def my_func():\n",
    "    print(\"I do nothing\")\n",
    "    \n",
    "    \n",
    "my_func()\n"
   ]
  },
  {
   "cell_type": "code",
   "execution_count": 20,
   "metadata": {},
   "outputs": [
    {
     "name": "stdout",
     "output_type": "stream",
     "text": [
      "name@domain.com 21 active\n"
     ]
    }
   ],
   "source": [
    "# returns email, age, and status of the user\n",
    "def get_user():\n",
    "    return \"name@domain.com\", 21, \"active\"\n",
    "\n",
    "\n",
    "# sets email, age, and status to values returned from get_user() function\n",
    "email, age, status = get_user()\n",
    "\n",
    "print(email, age, status)\n"
   ]
  },
  {
   "cell_type": "code",
   "execution_count": 2,
   "metadata": {},
   "outputs": [
    {
     "name": "stdout",
     "output_type": "stream",
     "text": [
      "Frodo Baggins the warrior has a power level of: 6\n",
      "Bilbo Baggins the warrior has a power level of: 11\n",
      "Gandalf The Grey the warrior has a power level of: 9001\n"
     ]
    }
   ],
   "source": [
    "def become_warrior(first_name, last_name, power):\n",
    "    new_power = power + 1\n",
    "    \n",
    "    title = first_name + \" \" + last_name + \" the warrior\"\n",
    "    \n",
    "    return title, new_power\n",
    "\n",
    "\n",
    "def main():\n",
    "    test(\"Frodo\", \"Baggins\", 5)\n",
    "    test(\"Bilbo\", \"Baggins\", 10)\n",
    "    test(\"Gandalf\", \"The Grey\", 9000)\n",
    "\n",
    "\n",
    "def test(first_name, last_name, power):\n",
    "    title_string, power = become_warrior(first_name, last_name, power)\n",
    "    \n",
    "    print(title_string, \"has a power level of:\", power)\n",
    "\n",
    "\n",
    "main()\n"
   ]
  },
  {
   "cell_type": "code",
   "execution_count": 22,
   "metadata": {},
   "outputs": [
    {
     "name": "stdout",
     "output_type": "stream",
     "text": [
      "11\n"
     ]
    }
   ],
   "source": [
    "# a and b are parameters\n",
    "def add(a, b):\n",
    "    return a + b\n",
    "\n",
    "\n",
    "# 5 and 6 are arguments\n",
    "sum = add(5, 6)\n",
    "\n",
    "print(sum)\n"
   ]
  },
  {
   "cell_type": "code",
   "execution_count": 3,
   "metadata": {},
   "outputs": [
    {
     "name": "stdout",
     "output_type": "stream",
     "text": [
      "Hello Lane welcome! You've registered your email: lane@example.com\n",
      "Hello there welcome! You've registered your email: lane@example.com\n"
     ]
    }
   ],
   "source": [
    "def get_greeting(email, name=\"there\"):\n",
    "    print(\"Hello\", name, \"welcome! You've registered your email:\", email)\n",
    "    \n",
    "    \n",
    "get_greeting(\"lane@example.com\", \"Lane\")\n",
    "get_greeting(\"lane@example.com\")\n"
   ]
  },
  {
   "cell_type": "code",
   "execution_count": 3,
   "metadata": {},
   "outputs": [
    {
     "name": "stdout",
     "output_type": "stream",
     "text": [
      "Health: 400, Armor: 5\n",
      "Health after punch: 355\n",
      "=====================================\n",
      "Health: 400, Armor: 5\n",
      "Health after slash: 305\n",
      "\n",
      "=====================================\n",
      "Health: 400, Armor: no armor!\n",
      "Health after slash: 300\n",
      "\n",
      "=====================================\n",
      "Health: 400, Armor: no armor!\n",
      "Health after punch: 350\n",
      "=====================================\n",
      "Health: 300, Armor: 3\n",
      "Health after punch: 253\n",
      "=====================================\n",
      "Health: 300, Armor: 3\n",
      "Health after slash: 203\n",
      "\n",
      "=====================================\n",
      "Health: 300, Armor: no armor!\n",
      "Health after slash: 200\n",
      "\n",
      "=====================================\n",
      "Health: 300, Armor: no armor!\n",
      "Health after punch: 250\n",
      "=====================================\n",
      "Health: 200, Armor: 1\n",
      "Health after punch: 151\n",
      "=====================================\n",
      "Health: 200, Armor: 1\n",
      "Health after slash: 101\n",
      "\n",
      "=====================================\n",
      "Health: 200, Armor: no armor!\n",
      "Health after slash: 100\n",
      "\n",
      "=====================================\n",
      "Health: 200, Armor: no armor!\n",
      "Health after punch: 150\n",
      "=====================================\n"
     ]
    }
   ],
   "source": [
    "def get_punched(health, armor=0):\n",
    "    damage = 50 - armor\n",
    "    \n",
    "    health = health - damage\n",
    "    \n",
    "    return health\n",
    "\n",
    "\n",
    "def get_slashed(health, armor=0):\n",
    "    damage = 100 - armor\n",
    "    \n",
    "    health = health - damage\n",
    "    \n",
    "    return health\n",
    "\n",
    "\n",
    "def test(health, armor):\n",
    "    print(f\"Health: {health}, Armor: {armor}\")\n",
    "    print(f\"Health after punch: {get_punched(health, armor)}\")\n",
    "    print(\"=====================================\")\n",
    "    print(f\"Health: {health}, Armor: {armor}\")\n",
    "    print(f\"Health after slash: {get_slashed(health, armor)}\\n\")\n",
    "    print(\"=====================================\")\n",
    "    print(f\"Health: {health}, Armor: no armor!\")\n",
    "    print(f\"Health after slash: {get_slashed(health)}\\n\")\n",
    "    print(\"=====================================\")\n",
    "    print(f\"Health: {health}, Armor: no armor!\")\n",
    "    print(f\"Health after punch: {get_punched(health)}\")\n",
    "    print(\"=====================================\")\n",
    "\n",
    "\n",
    "test(400, 5)\n",
    "test(300, 3)\n",
    "test(200, 1)\n"
   ]
  },
  {
   "cell_type": "code",
   "execution_count": 26,
   "metadata": {},
   "outputs": [
    {
     "name": "stdout",
     "output_type": "stream",
     "text": [
      "First name: Frodo\n",
      "Last name: Baggins\n",
      "Job: warrior\n",
      "Title: Frodo Baggins the warrior\n",
      "=====================================\n",
      "First name: Bilbo\n",
      "Last name: Baggins\n",
      "Job: thief\n",
      "Title: Bilbo Baggins the thief\n",
      "=====================================\n",
      "First name: Gandalf\n",
      "Last name: The Grey\n",
      "Job: wizard\n",
      "Title: Gandalf The Grey the wizard\n",
      "=====================================\n",
      "First name: Aragorn\n",
      "Last name: Son of Arathorn\n",
      "Job: ranger\n",
      "Title: Aragorn Son of Arathorn the ranger\n",
      "=====================================\n"
     ]
    }
   ],
   "source": [
    "def get_title(first_name, last_name, job):\n",
    "    title = first_name + \" \" + last_name + \" the \" + job\n",
    "    \n",
    "    return title\n",
    "\n",
    "\n",
    "def test(first_name, last_name, job):\n",
    "    title = get_title(first_name, last_name, job)\n",
    "    \n",
    "    print(\"First name:\", first_name)\n",
    "    print(\"Last name:\", last_name)\n",
    "    print(\"Job:\", job)\n",
    "    print(\"Title:\", title)\n",
    "    print(\"=====================================\")\n",
    "\n",
    "\n",
    "test(\"Frodo\", \"Baggins\", \"warrior\")\n",
    "test(\"Bilbo\", \"Baggins\", \"thief\")\n",
    "test(\"Gandalf\", \"The Grey\", \"wizard\")\n",
    "test(\"Aragorn\", \"Son of Arathorn\", \"ranger\")\n"
   ]
  },
  {
   "cell_type": "code",
   "execution_count": 4,
   "metadata": {},
   "outputs": [
    {
     "name": "stdout",
     "output_type": "stream",
     "text": [
      "Weapon's base damage: 100.0\n",
      "Cursing...\n",
      "With lesser curse the damage is: 50.0 damage.\n",
      "With greater curse the damage is: 25.0 damage.\n",
      "=====================================\n",
      "Weapon's base damage: 500.0\n",
      "Cursing...\n",
      "With lesser curse the damage is: 250.0 damage.\n",
      "With greater curse the damage is: 125.0 damage.\n",
      "=====================================\n",
      "Weapon's base damage: 1000.0\n",
      "Cursing...\n",
      "With lesser curse the damage is: 500.0 damage.\n",
      "With greater curse the damage is: 250.0 damage.\n",
      "=====================================\n"
     ]
    }
   ],
   "source": [
    "def curse(weapon_damage):\n",
    "    lesser_cursed = weapon_damage * 0.5\n",
    "    greater_cursed = weapon_damage * 0.25\n",
    "    \n",
    "    return lesser_cursed, greater_cursed\n",
    "\n",
    "\n",
    "def test(weapon_damage):\n",
    "    print(\"Weapon's base damage:\", float(weapon_damage))\n",
    "    print(\"Cursing...\")\n",
    "    \n",
    "    lesser_cursed, greater_cursed = curse(weapon_damage)\n",
    "    \n",
    "    print(\"With lesser curse the damage is:\", float(lesser_cursed), \"damage.\")\n",
    "    print(\"With greater curse the damage is:\", float(greater_cursed), \"damage.\")\n",
    "    print(\"=====================================\")\n",
    "\n",
    "\n",
    "def main():\n",
    "    test(100)\n",
    "    test(500)\n",
    "    test(1000)\n",
    "\n",
    "\n",
    "main()\n"
   ]
  },
  {
   "cell_type": "code",
   "execution_count": 28,
   "metadata": {},
   "outputs": [
    {
     "name": "stdout",
     "output_type": "stream",
     "text": [
      "The victim has 100 health.\n",
      "sword base damage: 50 Enchanting and attacking...\n",
      "The victim has been attacked with the enchanted sword\n",
      "The victim has 40 health remaining.\n",
      "=====================================\n",
      "The victim has 500 health.\n",
      "axe base damage: 100 Enchanting and attacking...\n",
      "The victim has been attacked with the enchanted axe\n",
      "The victim has 390 health remaining.\n",
      "=====================================\n",
      "The victim has 1000 health.\n",
      "bow base damage: 250 Enchanting and attacking...\n",
      "The victim has been attacked with the enchanted bow\n",
      "The victim has 740 health remaining.\n",
      "=====================================\n"
     ]
    }
   ],
   "source": [
    "def enchant_and_attack(player_health, damage, weapon):\n",
    "    enchant_damage = damage + 10\n",
    "    \n",
    "    new_health = player_health - enchant_damage\n",
    "    \n",
    "    enchanted_weapon = \"enchanted \" + weapon\n",
    "    \n",
    "    return enchanted_weapon, new_health\n",
    "\n",
    "\n",
    "def test(player_health, damage, weapon):\n",
    "    print(\"The victim has\", player_health, \"health.\")\n",
    "    print(weapon, \"base damage:\", damage, \"Enchanting and attacking...\")\n",
    "    \n",
    "    enchanted_weapon, new_health = enchant_and_attack(player_health, damage, weapon)\n",
    "    \n",
    "    print(\"The victim has been attacked with the\", enchanted_weapon)\n",
    "    print(\"The victim has\", new_health, \"health remaining.\")\n",
    "    print(\"=====================================\")\n",
    "\n",
    "\n",
    "def main():\n",
    "    test(100, 50, \"sword\")\n",
    "    test(500, 100, \"axe\")\n",
    "    test(1000, 250, \"bow\")\n",
    "\n",
    "\n",
    "main()\n"
   ]
  }
 ],
 "metadata": {
  "kernelspec": {
   "display_name": "venv",
   "language": "python",
   "name": "python3"
  },
  "language_info": {
   "codemirror_mode": {
    "name": "ipython",
    "version": 3
   },
   "file_extension": ".py",
   "mimetype": "text/x-python",
   "name": "python",
   "nbconvert_exporter": "python",
   "pygments_lexer": "ipython3",
   "version": "3.10.12"
  }
 },
 "nbformat": 4,
 "nbformat_minor": 2
}
