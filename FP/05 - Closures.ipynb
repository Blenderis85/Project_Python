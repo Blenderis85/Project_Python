{
 "cells": [
  {
   "cell_type": "code",
   "execution_count": 1,
   "metadata": {},
   "outputs": [
    {
     "name": "stdout",
     "output_type": "stream",
     "text": [
      "Mr. and Mrs. Dursley of number four, Privet Drive \n"
     ]
    }
   ],
   "source": [
    "def concatter():\n",
    "\tdoc = \"\"\n",
    "\tdef inner_func(word):\n",
    "\t\t# \"nonlocal\" tells Python to use the doc\n",
    "\t\t# variable from the enclosing scope\n",
    "\t\tnonlocal doc\n",
    "\t\tdoc += word + \" \"\n",
    "\t\treturn doc\n",
    "\treturn inner_func\n",
    "\n",
    "harry_potter_aggregator = concatter()\n",
    "harry_potter_aggregator(\"Mr.\")\n",
    "harry_potter_aggregator(\"and\")\n",
    "harry_potter_aggregator(\"Mrs.\")\n",
    "harry_potter_aggregator(\"Dursley\")\n",
    "harry_potter_aggregator(\"of\")\n",
    "harry_potter_aggregator(\"number\")\n",
    "harry_potter_aggregator(\"four,\")\n",
    "harry_potter_aggregator(\"Privet\")\n",
    "\n",
    "print(harry_potter_aggregator(\"Drive\"))\n"
   ]
  },
  {
   "cell_type": "code",
   "execution_count": null,
   "metadata": {},
   "outputs": [],
   "source": [
    "def word_count_aggregator():\n",
    "    count = 0\n",
    "\n",
    "    \n",
    "    def inner_func(doc):\n",
    "        nonlocal count\n",
    "        count += len(doc.split())\n",
    "        return count\n",
    "\n",
    "    return inner_func\n",
    "\n"
   ]
  }
 ],
 "metadata": {
  "kernelspec": {
   "display_name": "venv",
   "language": "python",
   "name": "python3"
  },
  "language_info": {
   "codemirror_mode": {
    "name": "ipython",
    "version": 3
   },
   "file_extension": ".py",
   "mimetype": "text/x-python",
   "name": "python",
   "nbconvert_exporter": "python",
   "pygments_lexer": "ipython3",
   "version": "3.12.2"
  }
 },
 "nbformat": 4,
 "nbformat_minor": 2
}
