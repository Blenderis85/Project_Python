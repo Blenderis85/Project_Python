{
 "cells": [
  {
   "cell_type": "code",
   "execution_count": null,
   "metadata": {},
   "outputs": [],
   "source": [
    "def findMax(nums):\n",
    "    max_val = float('-inf')\n",
    "    \n",
    "    for num in nums:\n",
    "        if max_val < num:\n",
    "            max_val = num\n",
    "    \n",
    "    return max_val\n",
    "\n"
   ]
  },
  {
   "cell_type": "code",
   "execution_count": null,
   "metadata": {},
   "outputs": [],
   "source": [
    "# instead of returning a value\n",
    "# this function modifies a global variable\n",
    "global_max = float('-inf')\n",
    "\n",
    "\n",
    "def findMax(nums):\n",
    "    global global_max\n",
    "    \n",
    "    for num in nums:\n",
    "        if global_max < num:\n",
    "            global_max = num\n",
    "            \n"
   ]
  },
  {
   "cell_type": "code",
   "execution_count": null,
   "metadata": {},
   "outputs": [],
   "source": [
    "def convert_file_format(filename, target_format):\n",
    "    valid_extensions = [\"docx\", \"pdf\", \"txt\", \"pptx\", \"ppt\", \"md\"]\n",
    "    valid_conversions = {\n",
    "        \"docx\": [\"pdf\", \"txt\", \"md\"],\n",
    "        \"pdf\": [\"docx\", \"txt\", \"md\"],\n",
    "        \"txt\": [\"docx\", \"pdf\", \"md\"],\n",
    "        \"pptx\": [\"ppt\", \"pdf\"],\n",
    "        \"ppt\": [\"pptx\", \"pdf\"],\n",
    "        \"md\": [\"docx\", \"pdf\", \"txt\"],\n",
    "    }\n",
    "\n",
    "    current_format = filename.split(\".\")[-1]\n",
    "    \n",
    "    if (\n",
    "        current_format in valid_extensions\n",
    "        and target_format in valid_conversions[current_format]\n",
    "    ):\n",
    "        return filename.replace(current_format, target_format)\n",
    "    \n",
    "    return None\n",
    "\n"
   ]
  },
  {
   "cell_type": "code",
   "execution_count": null,
   "metadata": {},
   "outputs": [],
   "source": [
    "def multiply_by2(nums):\n",
    "    products = []\n",
    "    \n",
    "    for num in nums:\n",
    "        products.append(num*2)\n",
    "    \n",
    "    return products\n",
    "\n"
   ]
  },
  {
   "cell_type": "code",
   "execution_count": null,
   "metadata": {},
   "outputs": [],
   "source": [
    "balance = 1000\n",
    "cars = []\n",
    "\n",
    "def buy_car(new_car):\n",
    "    cars.append(new_car)\n",
    "    \n",
    "    balance -= 69\n",
    "    \n"
   ]
  },
  {
   "cell_type": "code",
   "execution_count": null,
   "metadata": {},
   "outputs": [],
   "source": [
    "import random\n",
    "\n",
    "def roll_die(num_sides):\n",
    "    return random.randint(1, num_sides)\n",
    "\n"
   ]
  },
  {
   "cell_type": "code",
   "execution_count": null,
   "metadata": {},
   "outputs": [],
   "source": [
    "def modify_list(lst):\n",
    "    lst.append(4)\n",
    "    # my_list = [1, 2, 3, 4]\n",
    "\n",
    "\n",
    "my_list = [1, 2, 3]\n",
    "# my_list = [1, 2, 3]\n",
    "modify_list(my_list)\n",
    "# my_list = [1, 2, 3, 4]\n"
   ]
  },
  {
   "cell_type": "code",
   "execution_count": null,
   "metadata": {},
   "outputs": [],
   "source": [
    "def attempt_to_modify(num):\n",
    "    num += 1\n",
    "\n",
    "\n",
    "my_num = 1\n",
    "# my_num = 1\n",
    "attempt_to_modify(my_num)\n",
    "# my_num = 1\n"
   ]
  },
  {
   "cell_type": "code",
   "execution_count": null,
   "metadata": {},
   "outputs": [],
   "source": [
    "def add_format(default_formats, new_format):\n",
    "    new_formats = default_formats.copy()\n",
    "    new_formats[new_format] = True\n",
    "    \n",
    "    return new_formats\n",
    "\n",
    "\n",
    "def remove_format(default_formats, old_format):\n",
    "    new_formats = default_formats.copy()\n",
    "    new_formats[old_format] = False\n",
    "    \n",
    "    return new_formats\n",
    "\n"
   ]
  },
  {
   "cell_type": "code",
   "execution_count": null,
   "metadata": {},
   "outputs": [],
   "source": [
    "def remove_format(default_formats, old_format):\n",
    "    new_formats = default_formats.copy()\n",
    "    new_formats[old_format] = False\n",
    "    \n",
    "    return new_formats\n",
    "\n"
   ]
  },
  {
   "cell_type": "code",
   "execution_count": null,
   "metadata": {},
   "outputs": [],
   "source": [
    "def remove_format(default_formats, old_format):\n",
    "    default_formats[old_format] = False\n",
    "    \n",
    "    return default_formats\n",
    "\n"
   ]
  },
  {
   "cell_type": "code",
   "execution_count": null,
   "metadata": {},
   "outputs": [],
   "source": [
    "def convert_case(text, target_format):\n",
    "    if not text or not target_format:\n",
    "        raise ValueError(f\"No text or target format provided\")\n",
    "\n",
    "    if target_format == \"uppercase\":\n",
    "        return text.upper()\n",
    "    \n",
    "    if target_format == \"lowercase\":\n",
    "        return text.lower()\n",
    "    \n",
    "    if target_format == \"titlecase\":\n",
    "        return text.title()\n",
    "    \n",
    "    raise ValueError(f\"Unsupported format: {target_format}\")\n",
    "\n"
   ]
  },
  {
   "cell_type": "code",
   "execution_count": null,
   "metadata": {},
   "outputs": [],
   "source": [
    "def square(x):\n",
    "    x * x\n",
    "\n",
    "\n",
    "# this function makes no sense\n",
    "# it's just useless computation\n",
    "square(3)\n"
   ]
  },
  {
   "cell_type": "code",
   "execution_count": null,
   "metadata": {},
   "outputs": [],
   "source": [
    "y = 5\n",
    "\n",
    "\n",
    "def add_to_y(x):\n",
    "    y += x\n",
    "\n",
    "\n",
    "# this function call changes the value of y\n",
    "# but it's impure, and frankly bad code\n",
    "add_to_y(5)\n"
   ]
  },
  {
   "cell_type": "code",
   "execution_count": null,
   "metadata": {},
   "outputs": [],
   "source": [
    "def markdown_to_text(doc_content):\n",
    "    lines = doc_content.split(\"\\n\")\n",
    "    \n",
    "    new_lines = map(lambda line: remove_asterisks_from_words(line.lstrip(\"#\")), lines)\n",
    "    \n",
    "    return \"\\n\".join(new_lines)\n",
    "\n",
    "\n",
    "def remove_asterisks_from_words(line):\n",
    "    words = line.split()\n",
    "\n",
    "    def clean_word(word):\n",
    "        return word.strip(\"*\") if len(word) > 1 else word\n",
    "\n",
    "    cleaned_words = filter(lambda word: len(word) > 0, map(clean_word, words))\n",
    "    \n",
    "    return \" \".join(cleaned_words)\n",
    "\n"
   ]
  },
  {
   "cell_type": "code",
   "execution_count": 1,
   "metadata": {},
   "outputs": [
    {
     "data": {
      "text/plain": [
       "12"
      ]
     },
     "execution_count": 1,
     "metadata": {},
     "output_type": "execute_result"
    }
   ],
   "source": [
    "def add(x, y):\n",
    "    return x + y\n",
    "\n",
    "add(5, 7)\n"
   ]
  },
  {
   "cell_type": "code",
   "execution_count": null,
   "metadata": {},
   "outputs": [],
   "source": [
    "def word_count_memo(document, memos):\n",
    "    new_memos = memos.copy()\n",
    "    \n",
    "    if document in new_memos:\n",
    "        return new_memos[document], new_memos\n",
    "    \n",
    "    count = word_count(document)\n",
    "    \n",
    "    new_memos[document] = count\n",
    "    \n",
    "    return count, new_memos\n",
    "\n",
    "\n",
    "def word_count(document):\n",
    "    count = len(document.split())\n",
    "    \n",
    "    return count\n",
    "\n"
   ]
  },
  {
   "cell_type": "code",
   "execution_count": null,
   "metadata": {},
   "outputs": [],
   "source": [
    "def word_count_memo(document, memos):\n",
    "    new_memos = memos.copy()\n",
    "    \n",
    "    if document in new_memos:\n",
    "        return new_memos[document], new_memos\n",
    "    \n",
    "    count = word_count(document)\n",
    "    \n",
    "    new_memos[document] = count\n",
    "    \n",
    "    return count, new_memos\n",
    "\n"
   ]
  }
 ],
 "metadata": {
  "kernelspec": {
   "display_name": "venv",
   "language": "python",
   "name": "python3"
  },
  "language_info": {
   "codemirror_mode": {
    "name": "ipython",
    "version": 3
   },
   "file_extension": ".py",
   "mimetype": "text/x-python",
   "name": "python",
   "nbconvert_exporter": "python",
   "pygments_lexer": "ipython3",
   "version": "3.12.2"
  }
 },
 "nbformat": 4,
 "nbformat_minor": 2
}
