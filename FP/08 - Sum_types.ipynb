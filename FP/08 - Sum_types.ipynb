{
 "cells": [
  {
   "cell_type": "code",
   "execution_count": null,
   "metadata": {},
   "outputs": [],
   "source": [
    "doc_type_pdf = \"pdf\"\n",
    "doc_type_txt = \"txt\"\n",
    "doc_type_docx = \"docx\"\n",
    "doc_type_md = \"md\"\n",
    "doc_type_html = \"html\"\n",
    "\n",
    "\n",
    "def conversion_type(doc_type):\n",
    "    if doc_type == doc_type_pdf:\n",
    "        return doc_type_html\n",
    "    \n",
    "    elif doc_type == doc_type_txt:\n",
    "        return doc_type_pdf\n",
    "    \n",
    "    elif doc_type == doc_type_docx:\n",
    "        return doc_type_md\n",
    "    \n",
    "    elif doc_type == doc_type_md:\n",
    "        return doc_type_pdf\n",
    "    \n",
    "    elif doc_type == doc_type_html:\n",
    "        return doc_type_txt\n",
    "    else:\n",
    "        raise Exception(\"Unknown document type\")\n",
    "\n"
   ]
  },
  {
   "cell_type": "code",
   "execution_count": null,
   "metadata": {},
   "outputs": [],
   "source": [
    "color_green = 'green'\n",
    "color_blue = 'blue'\n",
    "color_red = 'red'\n",
    "\n",
    "\n",
    "def color_to_hex(color):\n",
    "    if color == color_green:\n",
    "        return '#00FF00'\n",
    "    \n",
    "    if color == color_blue:\n",
    "        return '#0000FF'\n",
    "    \n",
    "    if color == color_red:\n",
    "        return '#FF0000'\n",
    "    \n",
    "    # This has to be here because\n",
    "    # according to Python, `color` could be anything\n",
    "    raise Exception('Unknown color')\n",
    "\n"
   ]
  },
  {
   "cell_type": "code",
   "execution_count": null,
   "metadata": {},
   "outputs": [],
   "source": [
    "from enum import Enum\n",
    "\n",
    "\n",
    "class Color(Enum):\n",
    "    RED = 1\n",
    "    GREEN = 2\n",
    "    BLUE = 3\n",
    "\n",
    "\n",
    "def color_to_hex(color):\n",
    "    if color == Color.RED:\n",
    "        return '#FF0000'\n",
    "    \n",
    "    if color == Color.GREEN:\n",
    "        return '#00FF00'\n",
    "    \n",
    "    if color == Color.BLUE:\n",
    "        return '#0000FF'\n",
    "    \n",
    "    raise Exception('Unknown color')\n",
    "\n"
   ]
  },
  {
   "cell_type": "code",
   "execution_count": null,
   "metadata": {},
   "outputs": [],
   "source": [
    "from enum import Enum\n",
    "\n",
    "\n",
    "class DocFormat(Enum):\n",
    "    PDF = 1\n",
    "    TXT = 2\n",
    "    MD = 3\n",
    "    HTML = 4\n",
    "\n",
    "\n",
    "def convert_format(content, from_format, to_format):\n",
    "    if from_format == DocFormat.MD and to_format == DocFormat.HTML:\n",
    "        return content.replace(\"# \", \"<h1>\") + \"</h1>\"\n",
    "    \n",
    "    elif from_format == DocFormat.TXT and to_format == DocFormat.PDF:\n",
    "        return f\"[PDF] {content} [PDF]\"\n",
    "    \n",
    "    elif from_format == DocFormat.HTML and to_format == DocFormat.MD:\n",
    "        return content.replace(\"<h1>\", \"# \").replace(\"</h1>\", \"\")\n",
    "    \n",
    "    else:\n",
    "        raise Exception(\"Invalid type\")\n",
    "\n"
   ]
  }
 ],
 "metadata": {
  "kernelspec": {
   "display_name": "venv",
   "language": "python",
   "name": "python3"
  },
  "language_info": {
   "name": "python",
   "version": "3.12.2"
  }
 },
 "nbformat": 4,
 "nbformat_minor": 2
}
