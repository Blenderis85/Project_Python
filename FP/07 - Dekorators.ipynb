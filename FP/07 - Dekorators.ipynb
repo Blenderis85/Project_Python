{
 "cells": [
  {
   "cell_type": "code",
   "execution_count": 1,
   "metadata": {},
   "outputs": [
    {
     "name": "stdout",
     "output_type": "stream",
     "text": [
      "Vowel count: 2\n",
      "Document: Hello\n",
      "Vowel count: 3\n",
      "Document: world\n"
     ]
    }
   ],
   "source": [
    "def vowel_counter(func_to_wrap):\n",
    "    vowel_count = 0\n",
    "    \n",
    "    def wrapper(doc):\n",
    "        nonlocal vowel_count\n",
    "        \n",
    "        vowels = \"aeiou\"\n",
    "        \n",
    "        for char in doc:\n",
    "            if char in vowels:\n",
    "                vowel_count += 1\n",
    "        \n",
    "        print(f\"Vowel count: {vowel_count}\")\n",
    "        \n",
    "        return func_to_wrap(doc)\n",
    "    \n",
    "    return wrapper\n",
    "\n",
    "\n",
    "@vowel_counter\n",
    "def process_doc(doc):\n",
    "    print(f\"Document: {doc}\")\n",
    "\n",
    "\n",
    "process_doc(\"Hello\")\n",
    "# Vowel count: 2\n",
    "# Document: Hello\n",
    "\n",
    "process_doc(\"world\")\n",
    "# Vowel count: 3\n",
    "# Document: world\n"
   ]
  },
  {
   "cell_type": "code",
   "execution_count": null,
   "metadata": {},
   "outputs": [],
   "source": [
    "def file_type_aggregator(func_to_wrap):\n",
    "    # dict of file_type -> count\n",
    "    counts = {}\n",
    "\n",
    "    \n",
    "    def wrapper(doc, file_type):\n",
    "        nonlocal counts\n",
    "\n",
    "        if file_type not in counts:\n",
    "            counts[file_type] = 0\n",
    "        \n",
    "        counts[file_type] += 1\n",
    "        \n",
    "        result = func_to_wrap(doc, file_type)\n",
    "\n",
    "        return result, counts\n",
    "\n",
    "    return wrapper\n",
    "\n",
    "\n",
    "@file_type_aggregator\n",
    "def process_doc(doc, file_type):\n",
    "    return f\"Processing doc: {doc} with File Type: {file_type}\"\n",
    "\n"
   ]
  },
  {
   "cell_type": "code",
   "execution_count": 2,
   "metadata": {},
   "outputs": [
    {
     "name": "stdout",
     "output_type": "stream",
     "text": [
      "Positional arguments: ('hello', 'world')\n",
      "Keyword arguments: {'a': 1, 'b': 2}\n"
     ]
    }
   ],
   "source": [
    "def print_arguments(*args, **kwargs):\n",
    "    print(f\"Positional arguments: {args}\")\n",
    "    print(f\"Keyword arguments: {kwargs}\")\n",
    "\n",
    "\n",
    "print_arguments(\"hello\", \"world\", a=1, b=2)\n",
    "# Positional arguments: ('hello', 'world')\n",
    "# Keyword arguments: {'a': 1, 'b': 2}\n"
   ]
  },
  {
   "cell_type": "code",
   "execution_count": 3,
   "metadata": {},
   "outputs": [
    {
     "name": "stdout",
     "output_type": "stream",
     "text": [
      "1\n"
     ]
    }
   ],
   "source": [
    "def sub(a, b):\n",
    "    return a - b\n",
    "\n",
    "\n",
    "res = sub(3, 2)\n",
    "\n",
    "print(res)\n"
   ]
  },
  {
   "cell_type": "code",
   "execution_count": null,
   "metadata": {},
   "outputs": [],
   "source": [
    "def sub(a, b):\n",
    "    return a - b\n",
    "\n",
    "\n",
    "res = sub(b=3, a=2)\n",
    "\n",
    "print(res)\n"
   ]
  },
  {
   "cell_type": "code",
   "execution_count": 4,
   "metadata": {},
   "outputs": [
    {
     "name": "stdout",
     "output_type": "stream",
     "text": [
      "* 1\n",
      "* 2\n",
      "* date_str: 01/01/2023\n",
      "========================================\n",
      "* message: Hello World\n",
      "* to_delete: l\n",
      "========================================\n",
      "* 1\n",
      "* 2\n",
      "* 3\n",
      "* 4\n",
      "* 5\n",
      "========================================\n",
      "* hi\n",
      "* True\n",
      "* age: 28\n",
      "* name: Lane\n",
      "========================================\n"
     ]
    }
   ],
   "source": [
    "def args_logger(*args, **kwargs):\n",
    "    for arg in args:\n",
    "        print(f\"* {arg}\")\n",
    "    \n",
    "    for key, value in sorted(kwargs.items()):\n",
    "        print(f\"* {key}: {value}\")\n",
    "\n",
    "\n",
    "def test(*args, **kwargs):\n",
    "    args_logger(*args, **kwargs)\n",
    "    \n",
    "    print(\"========================================\")\n",
    "\n",
    "\n",
    "def main():\n",
    "    test(1, 2, date_str=\"01/01/2023\")\n",
    "    test(message=\"Hello World\", to_delete=\"l\")\n",
    "    test(1, 2, 3, 4, 5)\n",
    "    test(\"hi\", True, name=\"Lane\", age=28)\n",
    "\n",
    "\n",
    "main()\n"
   ]
  },
  {
   "cell_type": "code",
   "execution_count": 5,
   "metadata": {},
   "outputs": [
    {
     "name": "stdout",
     "output_type": "stream",
     "text": [
      "Called 1 times\n",
      "Called 2 times\n"
     ]
    }
   ],
   "source": [
    "def log_call_count(func_to_wrap):\n",
    "    count = 0\n",
    "\n",
    "    def wrapper(*args, **kwargs):\n",
    "        nonlocal count\n",
    "        \n",
    "        count += 1\n",
    "        \n",
    "        print(f\"Called {count} times\")\n",
    "        \n",
    "        return func_to_wrap(*args, **kwargs)\n",
    "\n",
    "    return wrapper\n",
    "\n",
    "\n",
    "@log_call_count\n",
    "def add_with_log(a, b):\n",
    "    return a + b\n",
    "\n",
    "\n",
    "res = add_with_log(2, 3)\n",
    "# Prints: Called 1 times\n",
    "res = add_with_log(4, 5)\n",
    "# Prints: Called 2 times\n"
   ]
  },
  {
   "cell_type": "code",
   "execution_count": null,
   "metadata": {},
   "outputs": [],
   "source": [
    "def markdown_to_text_decorator(func):\n",
    "    def wrapper(*args, **kwargs):\n",
    "        \n",
    "        converted_args = []\n",
    "        \n",
    "        for arg in args:\n",
    "            converted_args.append(convert_md_to_txt(arg))\n",
    "        \n",
    "        for key, value in kwargs.items():\n",
    "            kwargs[key] = convert_md_to_txt(value)\n",
    "        \n",
    "        return func(*converted_args, **kwargs)\n",
    "\n",
    "    return wrapper\n",
    "\n",
    "\n",
    "def convert_md_to_txt(doc):\n",
    "    lines = doc.split(\"\\n\")\n",
    "    \n",
    "    for i in range(len(lines)):\n",
    "        line = lines[i]\n",
    "        \n",
    "        lines[i] = line.lstrip(\"# \")\n",
    "    \n",
    "    return \"\\n\".join(lines)\n",
    "\n",
    "\n",
    "@markdown_to_text_decorator\n",
    "def concat(first_doc, second_doc):\n",
    "    return f\"\"\"First: {first_doc}\n",
    "Second: {second_doc}\n",
    "\"\"\"\n",
    "\n",
    "\n",
    "@markdown_to_text_decorator\n",
    "def format_as_essay(title, body, conclusion):\n",
    "    return f\"\"\"Title: {title}\n",
    "Body: {body}\n",
    "Conclusion: {conclusion}\n",
    "\"\"\"\n"
   ]
  }
 ],
 "metadata": {
  "kernelspec": {
   "display_name": "venv",
   "language": "python",
   "name": "python3"
  },
  "language_info": {
   "codemirror_mode": {
    "name": "ipython",
    "version": 3
   },
   "file_extension": ".py",
   "mimetype": "text/x-python",
   "name": "python",
   "nbconvert_exporter": "python",
   "pygments_lexer": "ipython3",
   "version": "3.12.2"
  }
 },
 "nbformat": 4,
 "nbformat_minor": 2
}
