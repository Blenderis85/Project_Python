{
 "cells": [
  {
   "cell_type": "code",
   "execution_count": null,
   "metadata": {},
   "outputs": [],
   "source": [
    "def stylize_title(document):\n",
    "    return add_border(center_title(document))\n",
    "\n",
    "\n",
    "def center_title(document):\n",
    "    width = 40\n",
    "    \n",
    "    title = document.split(\"\\n\")[0]\n",
    "    \n",
    "    centered_title = title.center(width)\n",
    "    \n",
    "    return document.replace(title, centered_title)\n",
    "\n",
    "\n",
    "def add_border(document):\n",
    "    title = document.split(\"\\n\")[0]\n",
    "    \n",
    "    border = \"*\" * len(title)\n",
    "    \n",
    "    return document.replace(title, title + \"\\n\" + border)\n",
    "\n"
   ]
  },
  {
   "cell_type": "code",
   "execution_count": null,
   "metadata": {},
   "outputs": [],
   "source": [
    "def add_doc(document, documents):\n",
    "    prefix = f\"{len(documents)}. \"\n",
    "    \n",
    "    new_doc = prefix + document\n",
    "    \n",
    "    documents = documents + (new_doc,)\n",
    "    \n",
    "    return documents\n",
    "\n"
   ]
  },
  {
   "cell_type": "code",
   "execution_count": null,
   "metadata": {},
   "outputs": [],
   "source": [
    "def get_median_font_size(font_sizes):\n",
    "    if len(font_sizes) == 0:\n",
    "        return None\n",
    "    \n",
    "    sorted_sizes = sorted(font_sizes)\n",
    "    \n",
    "    n = len(sorted_sizes)\n",
    "    \n",
    "    if n % 2 == 0:\n",
    "        return (sorted_sizes[n // 2 - 1] + sorted_sizes[n // 2]) / 2\n",
    "    else:\n",
    "        return sorted_sizes[n // 2]\n",
    "\n"
   ]
  }
 ],
 "metadata": {
  "kernelspec": {
   "display_name": "venv",
   "language": "python",
   "name": "python3"
  },
  "language_info": {
   "name": "python",
   "version": "3.12.2"
  }
 },
 "nbformat": 4,
 "nbformat_minor": 2
}
