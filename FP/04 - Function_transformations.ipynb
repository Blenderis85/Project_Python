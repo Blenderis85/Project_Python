{
 "cells": [
  {
   "cell_type": "code",
   "execution_count": 1,
   "metadata": {},
   "outputs": [
    {
     "name": "stdout",
     "output_type": "stream",
     "text": [
      "25\n",
      "10\n"
     ]
    }
   ],
   "source": [
    "def multiply(x, y):\n",
    "    return x * y\n",
    "\n",
    "\n",
    "def add(x, y):\n",
    "    return x + y\n",
    "\n",
    "\n",
    "def self_math(math_func):\n",
    "    def inner_func(x):\n",
    "        return math_func(x, x)\n",
    "    \n",
    "    return inner_func\n",
    "\n",
    "\n",
    "square_func = self_math(multiply)\n",
    "double_func = self_math(add)\n",
    "\n",
    "print(square_func(5))\n",
    "print(double_func(5))\n"
   ]
  },
  {
   "cell_type": "code",
   "execution_count": 2,
   "metadata": {},
   "outputs": [
    {
     "name": "stdout",
     "output_type": "stream",
     "text": [
      "Logs:\n",
      "Doc2Doc FATAL: out of memory\n",
      "Doc2Doc FATAL: cpu is pegged\n",
      "Doc2Doc FATAL: networking issue\n",
      "Doc2Doc FATAL: invalid syntax\n",
      "====================================\n",
      "Logs:\n",
      "Doc2Doc WARNING - email too large\n",
      "Doc2Doc WARNING - non alphanumeric symbols found\n",
      "====================================\n"
     ]
    }
   ],
   "source": [
    "def get_logger(formatter):\n",
    "    def logger(first, second):\n",
    "        print(formatter(first, second))\n",
    "\n",
    "    return logger\n",
    "\n",
    "\n",
    "def test(first, errors, formatter):\n",
    "    print(\"Logs:\")\n",
    "    \n",
    "    logger = get_logger(formatter)\n",
    "    \n",
    "    for err in errors:\n",
    "        logger(first, err)\n",
    "    \n",
    "    print(\"====================================\")\n",
    "\n",
    "\n",
    "def colon_delimit(first, second):\n",
    "    return f\"{first}: {second}\"\n",
    "\n",
    "\n",
    "def dash_delimit(first, second):\n",
    "    return f\"{first} - {second}\"\n",
    "\n",
    "\n",
    "def main():\n",
    "    db_errors = [\n",
    "        \"out of memory\",\n",
    "        \"cpu is pegged\",\n",
    "        \"networking issue\",\n",
    "        \"invalid syntax\",\n",
    "    ]\n",
    "    \n",
    "    test(\"Doc2Doc FATAL\", db_errors, colon_delimit)\n",
    "\n",
    "    mail_errors = [\n",
    "        \"email too large\",\n",
    "        \"non alphanumeric symbols found\",\n",
    "    ]\n",
    "    \n",
    "    test(\"Doc2Doc WARNING\", mail_errors, dash_delimit)\n",
    "\n",
    "\n",
    "main()\n"
   ]
  },
  {
   "cell_type": "code",
   "execution_count": null,
   "metadata": {},
   "outputs": [],
   "source": [
    "def doc_format_checker_and_converter(conversion_function, valid_formats):\n",
    "    def inner_converter(filename, content):\n",
    "        file_extension = filename.split(\".\")[-1]\n",
    "        \n",
    "        if file_extension in valid_formats:\n",
    "            return conversion_function(content)\n",
    "        \n",
    "        raise ValueError(\"Invalid file format\")\n",
    "\n",
    "    return inner_converter\n",
    "\n",
    "\n",
    "def capitalize_content(content):\n",
    "    return content.upper()\n",
    "\n",
    "\n",
    "def reverse_content(content):\n",
    "    return content[::-1]\n",
    "\n"
   ]
  },
  {
   "cell_type": "code",
   "execution_count": 3,
   "metadata": {},
   "outputs": [
    {
     "name": "stdout",
     "output_type": "stream",
     "text": [
      "**Hello**\n",
      "*Hello*\n",
      "* Hello\n"
     ]
    }
   ],
   "source": [
    "def formatter(pattern):\n",
    "    def inner_func(text):\n",
    "        result = \"\"\n",
    "        \n",
    "        i = 0\n",
    "        \n",
    "        while i < len(pattern):\n",
    "            if pattern[i:i+2] == '{}':\n",
    "                result += text\n",
    "                \n",
    "                i += 2\n",
    "            \n",
    "            else:\n",
    "                result += pattern[i]\n",
    "                \n",
    "                i += 1\n",
    "        \n",
    "        return result\n",
    "    \n",
    "    return inner_func\n",
    "\n",
    "\n",
    "bold_formatter = formatter(\"**{}**\")\n",
    "italic_formatter = formatter(\"*{}*\")\n",
    "bullet_point_formatter = formatter(\"* {}\")\n",
    "\n",
    "print(bold_formatter(\"Hello\"))\n",
    "print(italic_formatter(\"Hello\"))\n",
    "print(bullet_point_formatter(\"Hello\"))\n"
   ]
  }
 ],
 "metadata": {
  "kernelspec": {
   "display_name": "venv",
   "language": "python",
   "name": "python3"
  },
  "language_info": {
   "codemirror_mode": {
    "name": "ipython",
    "version": 3
   },
   "file_extension": ".py",
   "mimetype": "text/x-python",
   "name": "python",
   "nbconvert_exporter": "python",
   "pygments_lexer": "ipython3",
   "version": "3.12.2"
  }
 },
 "nbformat": 4,
 "nbformat_minor": 2
}
