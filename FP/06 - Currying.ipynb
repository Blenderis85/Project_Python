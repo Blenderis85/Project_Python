{
 "cells": [
  {
   "cell_type": "code",
   "execution_count": 1,
   "metadata": {},
   "outputs": [
    {
     "name": "stdout",
     "output_type": "stream",
     "text": [
      "3\n"
     ]
    }
   ],
   "source": [
    "def sum(a, b):\n",
    "  return a + b\n",
    "\n",
    "\n",
    "print(sum(1, 2))\n"
   ]
  },
  {
   "cell_type": "code",
   "execution_count": 2,
   "metadata": {},
   "outputs": [
    {
     "name": "stdout",
     "output_type": "stream",
     "text": [
      "3\n"
     ]
    }
   ],
   "source": [
    "def sum(a):\n",
    "  def inner_sum(b):\n",
    "    return a + b\n",
    "  \n",
    "  return inner_sum\n",
    "\n",
    "\n",
    "print(sum(1)(2))\n"
   ]
  },
  {
   "cell_type": "code",
   "execution_count": null,
   "metadata": {},
   "outputs": [],
   "source": [
    "def converted_font_size(font_size):\n",
    "    def inner(doc_type):\n",
    "        if doc_type == \"txt\":\n",
    "            return font_size\n",
    "        \n",
    "        if doc_type == \"md\":\n",
    "            return font_size * 2\n",
    "        \n",
    "        if doc_type == \"docx\":\n",
    "            return font_size * 3\n",
    "        \n",
    "        raise ValueError(\"Invalid doc type\")\n",
    "\n",
    "    return inner\n",
    "\n"
   ]
  },
  {
   "cell_type": "markdown",
   "metadata": {},
   "source": [
    "```python\n",
    "def colorize(converter, doc):\n",
    "  # ...\n",
    "  converter(doc)\n",
    "  # ...\n",
    "```\n",
    "```python\n",
    "def markdown_to_html(doc, asterisk_style):\n",
    "  # ...\n",
    "```\n",
    "```python\n",
    "def markdown_to_html(asterisk_style):\n",
    "  def inner_markdown_to_html(doc):\n",
    "    # ... use `asterisk_style`\n",
    "    # ... and `doc` to convert to HTML\n",
    "  return inner_markdown_to_html\n",
    "\n",
    "markdown_to_html_italic = markdown_to_html('italic')\n",
    "colorize(markdown_to_html_italic, doc)\n",
    "```"
   ]
  }
 ],
 "metadata": {
  "kernelspec": {
   "display_name": "venv",
   "language": "python",
   "name": "python3"
  },
  "language_info": {
   "codemirror_mode": {
    "name": "ipython",
    "version": 3
   },
   "file_extension": ".py",
   "mimetype": "text/x-python",
   "name": "python",
   "nbconvert_exporter": "python",
   "pygments_lexer": "ipython3",
   "version": "3.12.2"
  }
 },
 "nbformat": 4,
 "nbformat_minor": 2
}
