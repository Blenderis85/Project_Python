{
 "cells": [
  {
   "cell_type": "code",
   "execution_count": null,
   "metadata": {},
   "outputs": [],
   "source": [
    "def categorize_file(filename):\n",
    "    get_category = lambda ext: {\n",
    "        \".txt\": \"Text\",\n",
    "        \".docx\": \"Document\",\n",
    "        \".py\": \"Code\",\n",
    "    }.get(ext, \"Unknown\")\n",
    "    \n",
    "    return get_category(filename[filename.rfind(\".\") :])\n",
    "\n"
   ]
  },
  {
   "cell_type": "code",
   "execution_count": 1,
   "metadata": {},
   "outputs": [
    {
     "name": "stdout",
     "output_type": "stream",
     "text": [
      "25\n"
     ]
    }
   ],
   "source": [
    "def square(x):\n",
    "    return x * x\n",
    "\n",
    "# Assign function to a variable\n",
    "f = square\n",
    "\n",
    "print(f(5))\n"
   ]
  },
  {
   "cell_type": "code",
   "execution_count": 2,
   "metadata": {},
   "outputs": [
    {
     "name": "stdout",
     "output_type": "stream",
     "text": [
      "[1, 4, 9, 16, 25]\n"
     ]
    }
   ],
   "source": [
    "def square(x):\n",
    "    return x * x\n",
    "\n",
    "\n",
    "def my_map(func, arg_list):\n",
    "    result = []\n",
    "    \n",
    "    for i in arg_list:\n",
    "        result.append(func(i))\n",
    "    \n",
    "    return result\n",
    "\n",
    "\n",
    "squares = my_map(square, [1, 2, 3, 4, 5])\n",
    "\n",
    "print(squares)\n"
   ]
  },
  {
   "cell_type": "code",
   "execution_count": null,
   "metadata": {},
   "outputs": [],
   "source": [
    "def change_bullet_style(document):\n",
    "    return \"\\n\".join(map(convert_line, document.split(\"\\n\")))\n",
    "\n",
    "\n",
    "def convert_line(line):\n",
    "    old_bullet = \"-\"\n",
    "    new_bullet = \"*\"\n",
    "    \n",
    "    if len(line) > 0 and line[0] == old_bullet:\n",
    "        return new_bullet + line[1:]\n",
    "    \n",
    "    return line\n",
    "\n"
   ]
  },
  {
   "cell_type": "code",
   "execution_count": 3,
   "metadata": {},
   "outputs": [
    {
     "name": "stdout",
     "output_type": "stream",
     "text": [
      "[2, 4, 6]\n"
     ]
    }
   ],
   "source": [
    "def is_even(x):\n",
    "    return x % 2 == 0\n",
    "\n",
    "\n",
    "numbers = [1, 2, 3, 4, 5, 6]\n",
    "\n",
    "evens = list(filter(is_even, numbers))\n",
    "\n",
    "print(evens)\n"
   ]
  },
  {
   "cell_type": "code",
   "execution_count": null,
   "metadata": {},
   "outputs": [],
   "source": [
    "def remove_invalid_lines(document):\n",
    "    return \"\\n\".join(\n",
    "        filter(lambda line: not line.startswith(\"-\"), document.split(\"\\n\"))\n",
    "    )\n",
    "\n",
    "\n"
   ]
  },
  {
   "cell_type": "code",
   "execution_count": 4,
   "metadata": {},
   "outputs": [
    {
     "name": "stdout",
     "output_type": "stream",
     "text": [
      "15\n"
     ]
    }
   ],
   "source": [
    "# import functools from the standard library\n",
    "import functools\n",
    "\n",
    "\n",
    "def add(sum, y):\n",
    "    return sum + y\n",
    "\n",
    "\n",
    "numbers = [1, 2, 3, 4, 5]\n",
    "\n",
    "sum = functools.reduce(add, numbers)\n",
    "\n",
    "print(sum)\n"
   ]
  },
  {
   "cell_type": "code",
   "execution_count": null,
   "metadata": {},
   "outputs": [],
   "source": [
    "import functools\n",
    "\n",
    "\n",
    "def accumulate(doc, sentence):\n",
    "    return doc + \". \" + sentence\n",
    "\n",
    "\n",
    "def accumulate_first_sentences(sentences, n):\n",
    "    if not sentences or n < 1:\n",
    "        return \"\"\n",
    "    \n",
    "    return functools.reduce(accumulate, sentences[:n]) + \".\"\n",
    "\n"
   ]
  },
  {
   "cell_type": "code",
   "execution_count": null,
   "metadata": {},
   "outputs": [],
   "source": [
    "def factorial(n):\n",
    "    # a procedure that continuously multiplies\n",
    "    # the current result by the next number\n",
    "    result = 1\n",
    "    \n",
    "    for i in range(1, n + 1):\n",
    "        result *= i\n",
    "    \n",
    "    return result\n",
    "\n"
   ]
  },
  {
   "cell_type": "code",
   "execution_count": null,
   "metadata": {},
   "outputs": [],
   "source": [
    "import functools\n",
    "\n",
    "\n",
    "def mul(x, y):\n",
    "    return x * y\n",
    "\n",
    "\n",
    "def factorial(n):\n",
    "    return functools.reduce(mul, range(1, n + 1))\n",
    "\n"
   ]
  },
  {
   "cell_type": "code",
   "execution_count": 5,
   "metadata": {},
   "outputs": [
    {
     "name": "stdout",
     "output_type": "stream",
     "text": [
      "{3, 4}\n"
     ]
    }
   ],
   "source": [
    "a = {1, 2, 3, 4}\n",
    "b = {3, 4, 5, 6}\n",
    "\n",
    "c = a.intersection(b)\n",
    "\n",
    "print(c)\n"
   ]
  },
  {
   "cell_type": "code",
   "execution_count": null,
   "metadata": {},
   "outputs": [],
   "source": [
    "def get_common_formats(formats1, formats2):\n",
    "    return set(formats1).intersection(set(formats2))\n",
    "\n"
   ]
  },
  {
   "cell_type": "code",
   "execution_count": 6,
   "metadata": {},
   "outputs": [
    {
     "name": "stdout",
     "output_type": "stream",
     "text": [
      "[(1, 4), (2, 5), (3, 6)]\n"
     ]
    }
   ],
   "source": [
    "a = [1, 2, 3]\n",
    "b = [4, 5, 6]\n",
    "\n",
    "c = list(zip(a, b))\n",
    "\n",
    "print(c)\n"
   ]
  },
  {
   "cell_type": "code",
   "execution_count": null,
   "metadata": {},
   "outputs": [],
   "source": [
    "valid_formats = [\n",
    "    \"docx\",\n",
    "    \"pdf\",\n",
    "    \"txt\",\n",
    "    \"pptx\",\n",
    "    \"ppt\",\n",
    "    \"md\",\n",
    "]\n",
    "\n",
    "\n",
    "def pair_document_with_format(doc_names, doc_formats):\n",
    "    zipped = list(zip(doc_names, doc_formats))\n",
    "    \n",
    "    return filter(lambda x: x[1] in valid_formats, zipped)\n",
    "\n"
   ]
  }
 ],
 "metadata": {
  "kernelspec": {
   "display_name": "venv",
   "language": "python",
   "name": "python3"
  },
  "language_info": {
   "codemirror_mode": {
    "name": "ipython",
    "version": 3
   },
   "file_extension": ".py",
   "mimetype": "text/x-python",
   "name": "python",
   "nbconvert_exporter": "python",
   "pygments_lexer": "ipython3",
   "version": "3.12.2"
  }
 },
 "nbformat": 4,
 "nbformat_minor": 2
}
