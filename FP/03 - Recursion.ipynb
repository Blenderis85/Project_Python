{
 "cells": [
  {
   "cell_type": "code",
   "execution_count": null,
   "metadata": {},
   "outputs": [],
   "source": [
    "def sum(nums):\n",
    "    if len(nums) == 0:\n",
    "        # we've reached the end of the list\n",
    "        # stop the recursion and return 0\n",
    "        return 0\n",
    "    \n",
    "    \n",
    "    # add the first number to the sum of the rest of the numbers\n",
    "    return nums[0] + sum(nums[1:])\n",
    "\n"
   ]
  },
  {
   "cell_type": "code",
   "execution_count": null,
   "metadata": {},
   "outputs": [],
   "source": [
    "def factorial_r(x):\n",
    "    if x == 0:\n",
    "        return 1\n",
    "    else:\n",
    "        return x * factorial_r(x - 1)\n",
    "\n"
   ]
  },
  {
   "cell_type": "code",
   "execution_count": 1,
   "metadata": {},
   "outputs": [
    {
     "name": "stdout",
     "output_type": "stream",
     "text": [
      "H\n",
      "e\n",
      "l\n",
      "l\n",
      "o\n"
     ]
    }
   ],
   "source": [
    "def print_chars(word, i):\n",
    "    if i == len(word):\n",
    "        return\n",
    "    \n",
    "    print(word[i])\n",
    "    \n",
    "    print_chars(word, i + 1)\n",
    "\n",
    "print_chars(\"Hello\", 0)\n"
   ]
  },
  {
   "cell_type": "code",
   "execution_count": null,
   "metadata": {},
   "outputs": [],
   "source": [
    "def zipmap(keys, values):\n",
    "    if len(keys) == 0 or len(values) == 0:\n",
    "        return {}\n",
    "    \n",
    "    res = zipmap(keys[1:], values[1:])\n",
    "    \n",
    "    res[keys[0]] = values[0]\n",
    "    \n",
    "    return res\n",
    "\n"
   ]
  },
  {
   "cell_type": "code",
   "execution_count": null,
   "metadata": {},
   "outputs": [],
   "source": [
    "def countdown(n):\n",
    "    print(n)\n",
    "    \n",
    "    if n == 0:\n",
    "        return\n",
    "    else:\n",
    "        countdown(n - 1)\n",
    "        \n"
   ]
  },
  {
   "cell_type": "code",
   "execution_count": null,
   "metadata": {},
   "outputs": [],
   "source": [
    "def list_files(current_node, current_path=\"\"):\n",
    "    file_list = []\n",
    "    \n",
    "    for node in current_node:\n",
    "        node_vals = current_node[node]\n",
    "        \n",
    "        if node_vals is None:\n",
    "            file_list.append(current_path + \"/\" + node)\n",
    "        else:\n",
    "            file_list.extend(list_files(node_vals, current_path + \"/\" + node))\n",
    "    \n",
    "    return file_list\n",
    "\n"
   ]
  },
  {
   "cell_type": "code",
   "execution_count": null,
   "metadata": {},
   "outputs": [],
   "source": [
    "def count_nested_levels(nested_documents, target_document_id, level=1):\n",
    "    for document_id in nested_documents:\n",
    "        \n",
    "        if document_id == target_document_id:\n",
    "            return level\n",
    "        found_level = count_nested_levels(\n",
    "            nested_documents[document_id], target_document_id, level + 1\n",
    "        )\n",
    "        \n",
    "        if found_level != -1:\n",
    "            return found_level\n",
    "    \n",
    "    return -1\n",
    "\n"
   ]
  },
  {
   "cell_type": "code",
   "execution_count": null,
   "metadata": {},
   "outputs": [],
   "source": [
    "def reverse_string(s):\n",
    "    if len(s) == 0:\n",
    "        return s\n",
    "    \n",
    "    return reverse_string(s[1:]) + s[0]\n",
    "\n"
   ]
  }
 ],
 "metadata": {
  "kernelspec": {
   "display_name": "venv",
   "language": "python",
   "name": "python3"
  },
  "language_info": {
   "codemirror_mode": {
    "name": "ipython",
    "version": 3
   },
   "file_extension": ".py",
   "mimetype": "text/x-python",
   "name": "python",
   "nbconvert_exporter": "python",
   "pygments_lexer": "ipython3",
   "version": "3.12.2"
  }
 },
 "nbformat": 4,
 "nbformat_minor": 2
}
