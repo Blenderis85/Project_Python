{
 "cells": [
  {
   "cell_type": "code",
   "execution_count": null,
   "metadata": {},
   "outputs": [],
   "source": [
    "def destroy_walls(wall_healths):\n",
    "    for wall_health in wall_healths:\n",
    "        \n",
    "        if wall_health <= 0:\n",
    "            wall_healths.remove(wall_health)\n",
    "    \n",
    "    return wall_healths\n",
    "\n"
   ]
  },
  {
   "cell_type": "code",
   "execution_count": null,
   "metadata": {},
   "outputs": [],
   "source": [
    "def fight_soldiers(soldier_one, soldier_two):\n",
    "    soldier_one_dps = get_soldier_dps(soldier_one)\n",
    "    soldier_two_dps = get_soldier_dps(soldier_two)\n",
    "    \n",
    "    if soldier_one_dps > soldier_two_dps:\n",
    "        return \"soldier 1 wins\"\n",
    "    \n",
    "    if soldier_two_dps > soldier_one_dps:\n",
    "        return \"soldier 2 wins\"\n",
    "    \n",
    "    return \"both soldiers die\"\n",
    "\n",
    "\n",
    "def get_soldier_dps(soldier):\n",
    "    return soldier[\"damage\"] * soldier[\"attacks_per_second\"]\n",
    "\n"
   ]
  },
  {
   "cell_type": "code",
   "execution_count": null,
   "metadata": {},
   "outputs": [],
   "source": [
    "# Defines a new class called \"Soldier\"\n",
    "class Soldier:\n",
    "    health = 5\n",
    "    armor = 3\n",
    "    damage = 2\n",
    "\n",
    "   \n",
    "health = 50\n",
    "# health is an instance of an integer type\n",
    "aragorn = Soldier()\n",
    "# aragorn is an instance of the Soldier type (class)\n"
   ]
  },
  {
   "cell_type": "code",
   "execution_count": 1,
   "metadata": {},
   "outputs": [
    {
     "name": "stdout",
     "output_type": "stream",
     "text": [
      "40\n",
      "10\n"
     ]
    }
   ],
   "source": [
    "class Archer:\n",
    "    health = 40\n",
    "    arrows = 10\n",
    "\n",
    "\n",
    "# Create several instances of the Archer class\n",
    "legolas = Archer()\n",
    "bard = Archer()\n",
    "\n",
    "# Print class properties\n",
    "print(legolas.health)\n",
    "print(bard.arrows)\n"
   ]
  },
  {
   "cell_type": "code",
   "execution_count": null,
   "metadata": {},
   "outputs": [],
   "source": [
    "class Wall:\n",
    "    armor = 10\n",
    "    height = 5\n",
    "\n"
   ]
  },
  {
   "cell_type": "code",
   "execution_count": 2,
   "metadata": {},
   "outputs": [
    {
     "name": "stdout",
     "output_type": "stream",
     "text": [
      "3\n"
     ]
    }
   ],
   "source": [
    "class Soldier:\n",
    "    health = 5\n",
    "\n",
    "    def take_damage(self, damage):\n",
    "        self.health -= damage\n",
    "\n",
    "\n",
    "soldier_one = Soldier()\n",
    "\n",
    "soldier_one.take_damage(2)\n",
    "\n",
    "print(soldier_one.health)\n"
   ]
  },
  {
   "cell_type": "markdown",
   "metadata": {},
   "source": [
    "```python\n",
    "my_object.my_method()\n",
    "```"
   ]
  },
  {
   "cell_type": "code",
   "execution_count": null,
   "metadata": {},
   "outputs": [],
   "source": [
    "class Wall:\n",
    "    armor = 10\n",
    "    height = 5\n",
    "\n",
    "\n",
    "    def fortify(self):\n",
    "        self.armor *= 2\n",
    "\n"
   ]
  },
  {
   "cell_type": "code",
   "execution_count": 3,
   "metadata": {},
   "outputs": [
    {
     "name": "stdout",
     "output_type": "stream",
     "text": [
      "6\n"
     ]
    }
   ],
   "source": [
    "class Soldier:\n",
    "    armor = 2\n",
    "    num_weapons = 2\n",
    "\n",
    "\n",
    "    def get_speed(self):\n",
    "        speed = 10\n",
    "        \n",
    "        speed -= self.armor\n",
    "        speed -= self.num_weapons\n",
    "        \n",
    "        return speed\n",
    "\n",
    "soldier_one = Soldier()\n",
    "\n",
    "print(soldier_one.get_speed())\n"
   ]
  },
  {
   "cell_type": "code",
   "execution_count": null,
   "metadata": {},
   "outputs": [],
   "source": [
    "class Wall:\n",
    "    armor = 10\n",
    "    height = 5\n",
    "\n",
    "\n",
    "    def get_cost(self):\n",
    "        return self.armor * self.height\n",
    "\n",
    "\n",
    "    def fortify(self):\n",
    "        self.armor *= 2\n",
    "\n"
   ]
  },
  {
   "cell_type": "code",
   "execution_count": 4,
   "metadata": {},
   "outputs": [],
   "source": [
    "class Soldier:\n",
    "    health = 5\n",
    "\n",
    "\n",
    "    def take_damage(self, damage, multiplier):\n",
    "        damage = damage * multiplier\n",
    "        \n",
    "        self.health -= damage\n",
    "\n",
    "\n",
    "dalinar = Soldier()\n",
    "\n",
    "damage, multiplier = 30, 3\n",
    "\n",
    "# Only \"damage\" and \"multiplier\" are passed as arguments\n",
    "# \"dalinar\" is passed implicitly as the first argument, \"self\"\n",
    "dalinar.take_damage(damage, multiplier)\n"
   ]
  },
  {
   "cell_type": "code",
   "execution_count": null,
   "metadata": {},
   "outputs": [],
   "source": [
    "class Soldier:\n",
    "    name = \"Legolas\"\n",
    "    armor = 2\n",
    "    num_weapons = 2\n",
    "    \n"
   ]
  },
  {
   "cell_type": "code",
   "execution_count": null,
   "metadata": {},
   "outputs": [],
   "source": [
    "class Soldier:\n",
    "    def __init__(self):\n",
    "        self.name = \"Legolas\"\n",
    "        self.armor = 2\n",
    "        self.num_weapons = 2\n",
    "        \n"
   ]
  },
  {
   "cell_type": "code",
   "execution_count": 5,
   "metadata": {},
   "outputs": [
    {
     "name": "stdout",
     "output_type": "stream",
     "text": [
      "Legolas\n",
      "5\n",
      "10\n"
     ]
    }
   ],
   "source": [
    "class Soldier:\n",
    "    def __init__(self, name, armor, num_weapons):\n",
    "        self.name = name\n",
    "        self.armor = armor\n",
    "        self.num_weapons = num_weapons\n",
    "\n",
    "\n",
    "soldier = Soldier(\"Legolas\", 5, 10)\n",
    "\n",
    "print(soldier.name)\n",
    "\n",
    "print(soldier.armor)\n",
    "\n",
    "print(soldier.num_weapons)\n"
   ]
  },
  {
   "cell_type": "code",
   "execution_count": null,
   "metadata": {},
   "outputs": [],
   "source": [
    "class Wall:\n",
    "    def __init__(self, depth, height, width):\n",
    "        self.depth = depth\n",
    "        self.height = height\n",
    "        self.width = width\n",
    "        \n",
    "        self.volume = depth * height * width\n",
    "\n"
   ]
  },
  {
   "cell_type": "code",
   "execution_count": null,
   "metadata": {},
   "outputs": [],
   "source": [
    "class Soldier:\n",
    "    def __init__(self, name, armor, num_weapons):\n",
    "        self.name = name\n",
    "        self.armor = armor\n",
    "        self.num_weapons = num_weapons\n",
    "\n",
    "    \n",
    "    def get_speed(self):\n",
    "        speed = 10\n",
    "        \n",
    "        speed -= self.armor\n",
    "        speed -= self.num_weapons\n",
    "        \n",
    "        return speed\n",
    "    \n"
   ]
  },
  {
   "cell_type": "code",
   "execution_count": 7,
   "metadata": {},
   "outputs": [
    {
     "name": "stdout",
     "output_type": "stream",
     "text": [
      "Aragorn wins with 16 power over Gimli's 14\n",
      "Legolas wins with 49 power over Frodo's 6\n"
     ]
    }
   ],
   "source": [
    "def main():\n",
    "    aragorn = Brawler(4, 4, \"Aragorn\")\n",
    "    gimli = Brawler(2, 7, \"Gimli\")\n",
    "    legolas = Brawler(7, 7, \"Legolas\")\n",
    "    frodo = Brawler(3, 2, \"Frodo\")\n",
    "\n",
    "    fight(aragorn, gimli)\n",
    "    fight(legolas, frodo)\n",
    "\n",
    "\n",
    "class Brawler:\n",
    "    def __init__(self, speed, strength, name):\n",
    "        self.speed = speed\n",
    "        self.strength = strength\n",
    "        \n",
    "        self.power = speed * strength\n",
    "        \n",
    "        self.name = name\n",
    "\n",
    "\n",
    "def fight(f1, f2):\n",
    "    if f1.power > f2.power:\n",
    "        print(f\"{f1.name} wins with {f1.power} power over {f2.name}'s {f2.power}\")\n",
    "    elif f1.power < f2.power:\n",
    "        print(f\"{f2.name} wins with {f2.power} power over {f1.name}'s {f1.power}\")\n",
    "    else:\n",
    "        print(f\"It's a tie with both contestants at {f1.power} power\")\n",
    "\n",
    "\n",
    "main()\n"
   ]
  },
  {
   "cell_type": "code",
   "execution_count": 6,
   "metadata": {},
   "outputs": [
    {
     "name": "stdout",
     "output_type": "stream",
     "text": [
      "Legolas\n",
      "4\n"
     ]
    }
   ],
   "source": [
    "class Soldier:\n",
    "    def __init__(self, name, armor, num_weapons):\n",
    "        self.name = name\n",
    "        self.armor = armor\n",
    "        self.num_weapons = num_weapons\n",
    "\n",
    "    \n",
    "    def get_speed(self):\n",
    "        speed = 10\n",
    "        \n",
    "        speed -= self.armor\n",
    "        speed -= self.num_weapons\n",
    "        \n",
    "        return speed\n",
    "\n",
    "soldier_one = Soldier(\"Legolas\", 5, 1)\n",
    "\n",
    "print(soldier_one.name)\n",
    "\n",
    "print(soldier_one.get_speed())\n"
   ]
  },
  {
   "cell_type": "code",
   "execution_count": null,
   "metadata": {},
   "outputs": [],
   "source": [
    "class Archer:\n",
    "    def __init__(self, name, health, num_arrows):\n",
    "        self.name = name\n",
    "        self.health = health\n",
    "        self.num_arrows = num_arrows\n",
    "\n",
    "    \n",
    "    def get_shot(self):\n",
    "        if self.health > 0:\n",
    "            self.health -= 1\n",
    "        \n",
    "        if self.health == 0:\n",
    "            raise Exception(f\"{self.name} is dead\")\n",
    "\n",
    "    \n",
    "    def shoot(self, target):\n",
    "        if self.num_arrows == 0:\n",
    "            raise Exception(f\"{self.name} can't shoot\")\n",
    "        \n",
    "        print(f\"{self.name} shoots {target.name}\")\n",
    "        \n",
    "        self.num_arrows -= 1\n",
    "        \n",
    "        target.get_shot()\n",
    "\n",
    "\n",
    "    def get_status(self):\n",
    "        return self.name, self.health, self.num_arrows\n",
    "\n",
    "    \n",
    "    def print_status(self):\n",
    "        print(f\"{self.name} has {self.health} health and {self.num_arrows} arrows\")\n",
    "\n"
   ]
  },
  {
   "cell_type": "code",
   "execution_count": 8,
   "metadata": {},
   "outputs": [
    {
     "name": "stdout",
     "output_type": "stream",
     "text": [
      "20\n",
      "10\n"
     ]
    }
   ],
   "source": [
    "class Wall:\n",
    "    def __init__(self):\n",
    "        self.height = 10\n",
    "\n",
    "\n",
    "south_wall = Wall()\n",
    "south_wall.height = 20\n",
    "print(south_wall.height)\n",
    "\n",
    "north_wall = Wall()\n",
    "print(north_wall.height)\n"
   ]
  },
  {
   "cell_type": "code",
   "execution_count": 9,
   "metadata": {},
   "outputs": [
    {
     "name": "stdout",
     "output_type": "stream",
     "text": [
      "10\n",
      "20\n"
     ]
    }
   ],
   "source": [
    "class Wall:\n",
    "    height = 10\n",
    "\n",
    "south_wall = Wall()\n",
    "print(south_wall.height)\n",
    "\n",
    "Wall.height = 20\n",
    "print(south_wall.height)\n"
   ]
  },
  {
   "cell_type": "code",
   "execution_count": 10,
   "metadata": {},
   "outputs": [
    {
     "name": "stdout",
     "output_type": "stream",
     "text": [
      "fire dragon does 300 damage\n",
      "ice dragon does 150 damage\n"
     ]
    }
   ],
   "source": [
    "class Dragon:\n",
    "    def __init__(self, element):\n",
    "        self.element = element\n",
    "\n",
    "    \n",
    "    def get_breath_damage(self):\n",
    "        if self.element == \"fire\":\n",
    "            return 300\n",
    "        \n",
    "        if self.element == \"ice\":\n",
    "            return 150\n",
    "        \n",
    "        return 0\n",
    "\n",
    "\n",
    "def main():\n",
    "    first_dragon = Dragon(\"fire\")\n",
    "    print(\n",
    "        f\"{first_dragon.element} dragon does {first_dragon.get_breath_damage()} damage\"\n",
    "    )\n",
    "\n",
    "    second_dragon = Dragon(\"ice\")\n",
    "    Dragon.element = \"fire\"\n",
    "    print(\n",
    "        f\"{second_dragon.element} dragon does {second_dragon.get_breath_damage()} damage\"\n",
    "    )\n",
    "\n",
    "\n",
    "main()\n"
   ]
  },
  {
   "cell_type": "code",
   "execution_count": null,
   "metadata": {},
   "outputs": [],
   "source": [
    "class Book:\n",
    "    def __init__(self, title, author):\n",
    "        self.title = title\n",
    "        self.author = author\n",
    "\n",
    "\n",
    "class Library:\n",
    "    def __init__(self, name):\n",
    "        self.name = name\n",
    "        self.books = []\n",
    "\n",
    "    \n",
    "    def add_book(self, book):\n",
    "        self.books.append(book)\n",
    "\n",
    "    \n",
    "    def remove_book(self, book):\n",
    "        for lib_book in self.books:\n",
    "            if book.title == lib_book.title and book.author == lib_book.author:\n",
    "                self.books.remove(lib_book)\n",
    "\n",
    "    \n",
    "    def search_books(self, search_string):\n",
    "        results = []\n",
    "        \n",
    "        for book in self.books:\n",
    "            if (\n",
    "                search_string.lower() in book.title.lower()\n",
    "                or search_string.lower() in book.author.lower()\n",
    "            ):\n",
    "                \n",
    "                results.append(book)\n",
    "        \n",
    "        return results\n",
    "\n"
   ]
  },
  {
   "cell_type": "code",
   "execution_count": null,
   "metadata": {},
   "outputs": [],
   "source": [
    "class Employee:\n",
    "    company_name = \"Age of Dragons, Inc.\"\n",
    "    total_employees = 0\n",
    "\n",
    "    \n",
    "    def __init__(self, first_name, last_name, id, position, salary):\n",
    "        self.first_name = first_name\n",
    "        self.last_name = last_name\n",
    "        self.id = id\n",
    "        self.position = position\n",
    "        self.salary = salary\n",
    "\n",
    "        Employee.total_employees += 1\n",
    "\n",
    "    \n",
    "    def get_name(self):\n",
    "        return f\"{self.first_name} {self.last_name}\"\n",
    "\n"
   ]
  }
 ],
 "metadata": {
  "kernelspec": {
   "display_name": "venv",
   "language": "python",
   "name": "python3"
  },
  "language_info": {
   "codemirror_mode": {
    "name": "ipython",
    "version": 3
   },
   "file_extension": ".py",
   "mimetype": "text/x-python",
   "name": "python",
   "nbconvert_exporter": "python",
   "pygments_lexer": "ipython3",
   "version": "3.12.2"
  }
 },
 "nbformat": 4,
 "nbformat_minor": 2
}
